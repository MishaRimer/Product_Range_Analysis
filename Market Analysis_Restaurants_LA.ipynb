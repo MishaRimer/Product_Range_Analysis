{
 "cells": [
  {
   "cell_type": "markdown",
   "id": "8424b70b-ab73-4215-8cf4-6b272e1da405",
   "metadata": {
    "tags": []
   },
   "source": [
    "# Table of Contents <a id=\"TOC\"></a> "
   ]
  },
  {
   "cell_type": "markdown",
   "id": "893ebf79-461c-4764-a08e-dff8a0f00ac4",
   "metadata": {},
   "source": [
    "1. [Table of Contets](#TOC)\n",
    "2. [Description](#desc)\n",
    "3. [Importing Libraries](#lib)\n",
    "4. [Downloading Data](#df)\n",
    "5. [Data Observation & Preprocessing](#df_observ)\n",
    "6. [Proportion of Establishments by Type](#prop)\n",
    "7. [Proportion of Independent vs. Chain Establishments](#Ind_vs_Ch)\n",
    "8. [Seats Distribution Across the Categories of Establishments](#Seat_dist) \n",
    "9. [Average Number of Seats by Type of Establishment](#AVG_seats)\n",
    "10. [Extracting Street Names from Establishments Addresses](#ext_street)\n",
    "11. [The Most Popular Streets for Establishments in LA](#Pop_street)\n",
    "12. [LA streets with only 1 establishment, observing the establishments](#Unpop_street)\n",
    "13. [LA streets with many establishments, observing the establishments](#Pop_street_details)\n",
    "14. [Conclusion](#Conclusion)\n",
    "\n",
    "\n",
    "\n",
    "\n",
    "\n"
   ]
  },
  {
   "cell_type": "markdown",
   "id": "9586afe4-c606-4b08-b65b-6d1c10a610d6",
   "metadata": {
    "tags": []
   },
   "source": [
    "# Description<a id=\"desc\"></a> "
   ]
  },
  {
   "cell_type": "markdown",
   "id": "1328e00f-78f4-4a60-8acc-21f95d2d8bcc",
   "metadata": {},
   "source": [
    "The goal of this study is to conduct market research to support decision making and attract investors in opening a small robot-run cafe in Los Angeles. The project is promising but expensive. We plan to analyze open-source data on restaurants in LA to identify trends and patterns in the market. This research will help us make informed decisions about the restaurant type, number of seats, and potential for developing a chain."
   ]
  },
  {
   "cell_type": "markdown",
   "id": "54668821-8fdc-478a-8cf1-2dc54e1c7ab5",
   "metadata": {
    "tags": []
   },
   "source": [
    "# Importing Libraries<a id=\"lib\"></a> "
   ]
  },
  {
   "cell_type": "code",
   "execution_count": 2,
   "id": "4c0b88f5-150a-408b-a865-2afc78e7ae42",
   "metadata": {},
   "outputs": [
    {
     "name": "stdout",
     "output_type": "stream",
     "text": [
      "Requirement already satisfied: plotly in /Users/misharimer/anaconda3/lib/python3.9/site-packages (5.6.0)\n",
      "Requirement already satisfied: tenacity>=6.2.0 in /Users/misharimer/anaconda3/lib/python3.9/site-packages (from plotly) (8.0.1)\n",
      "Requirement already satisfied: six in /Users/misharimer/anaconda3/lib/python3.9/site-packages (from plotly) (1.16.0)\n",
      "Requirement already satisfied: usaddress in /Users/misharimer/anaconda3/lib/python3.9/site-packages (0.5.10)\n",
      "Requirement already satisfied: future>=0.14 in /Users/misharimer/anaconda3/lib/python3.9/site-packages (from usaddress) (0.18.2)\n",
      "Requirement already satisfied: python-crfsuite>=0.7 in /Users/misharimer/anaconda3/lib/python3.9/site-packages (from usaddress) (0.9.9)\n",
      "Requirement already satisfied: probableparsing in /Users/misharimer/anaconda3/lib/python3.9/site-packages (from usaddress) (0.0.1)\n"
     ]
    }
   ],
   "source": [
    "import pandas as pd\n",
    "import numpy as np\n",
    "import datetime as dt\n",
    "import matplotlib.pyplot as plt\n",
    "import seaborn as sns\n",
    "!pip install plotly\n",
    "import plotly.express as px\n",
    "from plotly import graph_objects as go\n",
    "import re\n",
    "! pip install usaddress\n",
    "import usaddress as us\n"
   ]
  },
  {
   "cell_type": "markdown",
   "id": "ad84792d-3771-4011-aaa1-94eadd3c4865",
   "metadata": {},
   "source": [
    "# Downloading Data<a id=\"df\"></a> "
   ]
  },
  {
   "cell_type": "code",
   "execution_count": 3,
   "id": "7b7657a1-4c4a-4677-9e35-11c7d553f93d",
   "metadata": {},
   "outputs": [],
   "source": [
    "try:\n",
    "    path = '/datasets/'\n",
    "    df_rest = pd.read_csv(path+'rest_data_us.csv')\n",
    "except:\n",
    "    path = '/Users/misharimer/Downloads/Python_Projects/Market Analysis_Restaurants_LA/'\n",
    "    df_rest = pd.read_csv(path+'rest_data_us.csv')\n"
   ]
  },
  {
   "cell_type": "markdown",
   "id": "b602f6b4-9770-48cd-94c7-51356558e871",
   "metadata": {
    "tags": []
   },
   "source": [
    "# Data Observation & Preprocessing <a id=\"df_observ\"></a> "
   ]
  },
  {
   "cell_type": "markdown",
   "id": "07aa1c85-ad42-41fc-902d-f5b95f18d16c",
   "metadata": {
    "tags": []
   },
   "source": [
    "From the documentation we already have the basics about each column:\n",
    "- object_name — establishment name\n",
    "- chain — chain establishment\n",
    "- object_type — establishment type\n",
    "- address — address\n",
    "- number — number of seats    \n",
    "    "
   ]
  },
  {
   "cell_type": "code",
   "execution_count": 4,
   "id": "4bbd70bd-3a8b-4acf-81e1-0e0df84c643d",
   "metadata": {},
   "outputs": [
    {
     "name": "stdout",
     "output_type": "stream",
     "text": [
      "<class 'pandas.core.frame.DataFrame'>\n",
      "RangeIndex: 9651 entries, 0 to 9650\n",
      "Data columns (total 6 columns):\n",
      " #   Column       Non-Null Count  Dtype \n",
      "---  ------       --------------  ----- \n",
      " 0   id           9651 non-null   int64 \n",
      " 1   object_name  9651 non-null   object\n",
      " 2   address      9651 non-null   object\n",
      " 3   chain        9648 non-null   object\n",
      " 4   object_type  9651 non-null   object\n",
      " 5   number       9651 non-null   int64 \n",
      "dtypes: int64(2), object(4)\n",
      "memory usage: 2.4 MB\n"
     ]
    }
   ],
   "source": [
    "df_rest.info(memory_usage = 'deep')"
   ]
  },
  {
   "cell_type": "code",
   "execution_count": 5,
   "id": "825829df-16d2-4e46-b549-52340169298f",
   "metadata": {},
   "outputs": [
    {
     "data": {
      "text/html": [
       "<div>\n",
       "<style scoped>\n",
       "    .dataframe tbody tr th:only-of-type {\n",
       "        vertical-align: middle;\n",
       "    }\n",
       "\n",
       "    .dataframe tbody tr th {\n",
       "        vertical-align: top;\n",
       "    }\n",
       "\n",
       "    .dataframe thead th {\n",
       "        text-align: right;\n",
       "    }\n",
       "</style>\n",
       "<table border=\"1\" class=\"dataframe\">\n",
       "  <thead>\n",
       "    <tr style=\"text-align: right;\">\n",
       "      <th></th>\n",
       "      <th>id</th>\n",
       "      <th>object_name</th>\n",
       "      <th>address</th>\n",
       "      <th>chain</th>\n",
       "      <th>object_type</th>\n",
       "      <th>number</th>\n",
       "    </tr>\n",
       "  </thead>\n",
       "  <tbody>\n",
       "    <tr>\n",
       "      <th>0</th>\n",
       "      <td>11786</td>\n",
       "      <td>HABITAT COFFEE SHOP</td>\n",
       "      <td>3708 N EAGLE ROCK BLVD</td>\n",
       "      <td>False</td>\n",
       "      <td>Cafe</td>\n",
       "      <td>26</td>\n",
       "    </tr>\n",
       "    <tr>\n",
       "      <th>1</th>\n",
       "      <td>11787</td>\n",
       "      <td>REILLY'S</td>\n",
       "      <td>100 WORLD WAY # 120</td>\n",
       "      <td>False</td>\n",
       "      <td>Restaurant</td>\n",
       "      <td>9</td>\n",
       "    </tr>\n",
       "    <tr>\n",
       "      <th>2</th>\n",
       "      <td>11788</td>\n",
       "      <td>STREET CHURROS</td>\n",
       "      <td>6801 HOLLYWOOD BLVD # 253</td>\n",
       "      <td>False</td>\n",
       "      <td>Fast Food</td>\n",
       "      <td>20</td>\n",
       "    </tr>\n",
       "    <tr>\n",
       "      <th>3</th>\n",
       "      <td>11789</td>\n",
       "      <td>TRINITI ECHO PARK</td>\n",
       "      <td>1814 W SUNSET BLVD</td>\n",
       "      <td>False</td>\n",
       "      <td>Restaurant</td>\n",
       "      <td>22</td>\n",
       "    </tr>\n",
       "    <tr>\n",
       "      <th>4</th>\n",
       "      <td>11790</td>\n",
       "      <td>POLLEN</td>\n",
       "      <td>2100 ECHO PARK AVE</td>\n",
       "      <td>False</td>\n",
       "      <td>Restaurant</td>\n",
       "      <td>20</td>\n",
       "    </tr>\n",
       "  </tbody>\n",
       "</table>\n",
       "</div>"
      ],
      "text/plain": [
       "      id          object_name                    address  chain object_type  \\\n",
       "0  11786  HABITAT COFFEE SHOP     3708 N EAGLE ROCK BLVD  False        Cafe   \n",
       "1  11787             REILLY'S        100 WORLD WAY # 120  False  Restaurant   \n",
       "2  11788       STREET CHURROS  6801 HOLLYWOOD BLVD # 253  False   Fast Food   \n",
       "3  11789    TRINITI ECHO PARK         1814 W SUNSET BLVD  False  Restaurant   \n",
       "4  11790               POLLEN         2100 ECHO PARK AVE  False  Restaurant   \n",
       "\n",
       "   number  \n",
       "0      26  \n",
       "1       9  \n",
       "2      20  \n",
       "3      22  \n",
       "4      20  "
      ]
     },
     "execution_count": 5,
     "metadata": {},
     "output_type": "execute_result"
    }
   ],
   "source": [
    "df_rest.head()"
   ]
  },
  {
   "cell_type": "code",
   "execution_count": 5,
   "id": "07dc4045-37d9-4611-8c46-b8079e0ced72",
   "metadata": {},
   "outputs": [
    {
     "name": "stdout",
     "output_type": "stream",
     "text": [
      "column name: id\n",
      "data type: int64\n",
      "number of values: (9651,)\n",
      "number of unique values: 9651\n",
      "unique values: [11786 11787 11788 ... 21434 21435 21436]\n",
      "number of missing values: 0\n",
      "percentage of missing values: 0.0\n",
      "number of zero values: 0\n",
      "--------------------\n",
      "\n",
      "column name: object_name\n",
      "data type: object\n",
      "number of values: (9651,)\n",
      "number of unique values: 8672\n",
      "unique values: ['HABITAT COFFEE SHOP' \"REILLY'S\" 'STREET CHURROS' ... 'FIN-MELROSE'\n",
      " 'MEDIDATE COFFEE' 'CAFE SPROUTS']\n",
      "number of missing values: 0\n",
      "percentage of missing values: 0.0\n",
      "number of zero values: 0\n",
      "--------------------\n",
      "\n",
      "column name: address\n",
      "data type: object\n",
      "number of values: (9651,)\n",
      "number of unique values: 8517\n",
      "unique values: ['3708 N EAGLE ROCK BLVD' '100 WORLD WAY # 120'\n",
      " '6801 HOLLYWOOD BLVD # 253' ... '6741 HOLLYWOOD BLVD'\n",
      " '548 S SPRING ST STE 100' '1300 S SAN PEDRO ST STE 111']\n",
      "number of missing values: 0\n",
      "percentage of missing values: 0.0\n",
      "number of zero values: 0\n",
      "--------------------\n",
      "\n",
      "column name: chain\n",
      "data type: object\n",
      "number of values: (9651,)\n",
      "number of unique values: 2\n",
      "unique values: [False True nan]\n",
      "number of missing values: 3\n",
      "percentage of missing values: 0.03\n",
      "number of zero values: 5972\n",
      "--------------------\n",
      "\n",
      "column name: object_type\n",
      "data type: object\n",
      "number of values: (9651,)\n",
      "number of unique values: 6\n",
      "unique values: ['Cafe' 'Restaurant' 'Fast Food' 'Bakery' 'Bar' 'Pizza']\n",
      "number of missing values: 0\n",
      "percentage of missing values: 0.0\n",
      "number of zero values: 0\n",
      "--------------------\n",
      "\n",
      "column name: number\n",
      "data type: int64\n",
      "number of values: (9651,)\n",
      "number of unique values: 216\n",
      "unique values: [ 26   9  20  22  14 100   7   1  35  38  17 133  18  21 147  10 139 103\n",
      "  16  39   4  43  48  19  80  31  15   5 118 182  49  13  37 158  45  33\n",
      "  28   8  27   2 184  24  66  11 112  40  25  29 122   3 219  63 121 163\n",
      "   6  88  75 131  42  32 128 224  36  12 200 205  71  23 107 134  73  62\n",
      " 140  79  70 225 149  44 221 157  34 123 138 116 108  85  41 155  46  77\n",
      " 111 143  96 146  97 129 124 130  91 109  81  69 117  47 167 209 217 185\n",
      " 135 164 162 113  89 151 196 127  84 115  86 190  92 148  98 227 141 197\n",
      " 145 229 213 222  64  95 101 208 102  61  65 166 170  74 187 169 119  99\n",
      " 110 104  90 186 189 142  87 171 198 136 106 203 210 226  82 199  67 194\n",
      "  68 125 126 218 180 132 212 161  83 193 192 181 175 204 160 174 159 144\n",
      " 153 215  78 177  94 172 137 176 195  93 188 178  76 216 120 220 173 228\n",
      " 114 214 105 202 168 223 211  72 165 201 207 206 156 179 154 191 183 152]\n",
      "number of missing values: 0\n",
      "percentage of missing values: 0.0\n",
      "number of zero values: 0\n",
      "--------------------\n",
      "\n"
     ]
    }
   ],
   "source": [
    "def custom_info (df):\n",
    "    for col in df:\n",
    "        print('column name:', col)\n",
    "        print('data type:',df[col].dtype)\n",
    "        print('number of values:',df[col].shape)\n",
    "        print('number of unique values:',df[col].nunique())  \n",
    "        print('unique values:',df[col].unique())\n",
    "        print('number of missing values:', df[col].isna().sum())\n",
    "        print('percentage of missing values:',round(df[col].isna().sum()/len(df)*100,2))\n",
    "        print('number of zero values:',len(df[df[col]==0]))\n",
    "        print('-'*20)\n",
    "        print()\n",
    "custom_info (df_rest)"
   ]
  },
  {
   "cell_type": "code",
   "execution_count": 6,
   "id": "cf6f0a43-c477-4975-810f-61f3de9daf1e",
   "metadata": {},
   "outputs": [
    {
     "name": "stdout",
     "output_type": "stream",
     "text": [
      "number of duplicates in restaurants datframe: 0\n"
     ]
    }
   ],
   "source": [
    "dataframe = {'restaurants datframe': df_rest}\n",
    "for name,df in dataframe.items():\n",
    "    print(f'number of duplicates in {name}: {df.duplicated().sum()}')"
   ]
  },
  {
   "cell_type": "markdown",
   "id": "1a1b0a5c-a881-4acd-aa93-4c63181278a0",
   "metadata": {},
   "source": [
    "Observations have revealed some minor issues with the given data:\n",
    "1. The name of the column 'number' does not give an idea of its content, so it would be better to rename it for clarity.\n",
    "2. For convenience, it's worth converting the values in the 'object_name','address' and 'object_type' columns to lowercase letters. \n",
    "3. There are 3 missing values in the 'chain' column.\n",
    "4. The data type for values in the 'chain' column is unexpected. True/false values are usually of boolean data type rather than object.\n",
    "5. In order to save memory, it is better to change 'object_type' to category"
   ]
  },
  {
   "cell_type": "markdown",
   "id": "731ff122-9b47-4ac4-8499-2444889b7e76",
   "metadata": {},
   "source": [
    "Renaming the column"
   ]
  },
  {
   "cell_type": "code",
   "execution_count": 7,
   "id": "12658d1d-391a-4faf-9170-73d90ce349c4",
   "metadata": {},
   "outputs": [],
   "source": [
    "df_rest = df_rest.rename(columns={'number': 'seats'})"
   ]
  },
  {
   "cell_type": "markdown",
   "id": "388de7e9-3b0a-4cb2-ab37-25489183e27a",
   "metadata": {},
   "source": [
    "Lowering the letters"
   ]
  },
  {
   "cell_type": "code",
   "execution_count": 8,
   "id": "e76886b3-a517-4131-bfd6-8be809b8ffad",
   "metadata": {},
   "outputs": [],
   "source": [
    "df_rest['address'] = df_rest['address'].apply(lambda x: x.lower())\n",
    "df_rest['object_name'] = df_rest['object_name'].apply(lambda x: x.lower())\n",
    "df_rest['object_type'] = df_rest['object_type'].apply(lambda x: x.lower())"
   ]
  },
  {
   "cell_type": "markdown",
   "id": "03cebcb7-416d-4723-9691-a83fc5ca398c",
   "metadata": {},
   "source": [
    "Before converting the 'chain' column data type to boolean, we need to deal with the missing values first. Otherwise, while converting, the NaN values will become False. Let's examine those establishments."
   ]
  },
  {
   "cell_type": "code",
   "execution_count": 9,
   "id": "29a24ca4-6959-4bef-9002-53a1983d0691",
   "metadata": {},
   "outputs": [
    {
     "data": {
      "text/html": [
       "<div>\n",
       "<style scoped>\n",
       "    .dataframe tbody tr th:only-of-type {\n",
       "        vertical-align: middle;\n",
       "    }\n",
       "\n",
       "    .dataframe tbody tr th {\n",
       "        vertical-align: top;\n",
       "    }\n",
       "\n",
       "    .dataframe thead th {\n",
       "        text-align: right;\n",
       "    }\n",
       "</style>\n",
       "<table border=\"1\" class=\"dataframe\">\n",
       "  <thead>\n",
       "    <tr style=\"text-align: right;\">\n",
       "      <th></th>\n",
       "      <th>id</th>\n",
       "      <th>object_name</th>\n",
       "      <th>address</th>\n",
       "      <th>chain</th>\n",
       "      <th>object_type</th>\n",
       "      <th>seats</th>\n",
       "    </tr>\n",
       "  </thead>\n",
       "  <tbody>\n",
       "    <tr>\n",
       "      <th>7408</th>\n",
       "      <td>19194</td>\n",
       "      <td>taqueria los 3 carnales</td>\n",
       "      <td>5000 e whittier blvd</td>\n",
       "      <td>NaN</td>\n",
       "      <td>restaurant</td>\n",
       "      <td>14</td>\n",
       "    </tr>\n",
       "    <tr>\n",
       "      <th>7523</th>\n",
       "      <td>19309</td>\n",
       "      <td>jammin jimmy's pizza</td>\n",
       "      <td>1641 firestone blvd</td>\n",
       "      <td>NaN</td>\n",
       "      <td>pizza</td>\n",
       "      <td>1</td>\n",
       "    </tr>\n",
       "    <tr>\n",
       "      <th>8648</th>\n",
       "      <td>20434</td>\n",
       "      <td>the lexington theater</td>\n",
       "      <td>129 e 3rd st</td>\n",
       "      <td>NaN</td>\n",
       "      <td>restaurant</td>\n",
       "      <td>35</td>\n",
       "    </tr>\n",
       "  </tbody>\n",
       "</table>\n",
       "</div>"
      ],
      "text/plain": [
       "         id              object_name               address chain object_type  \\\n",
       "7408  19194  taqueria los 3 carnales  5000 e whittier blvd   NaN  restaurant   \n",
       "7523  19309     jammin jimmy's pizza   1641 firestone blvd   NaN       pizza   \n",
       "8648  20434    the lexington theater          129 e 3rd st   NaN  restaurant   \n",
       "\n",
       "      seats  \n",
       "7408     14  \n",
       "7523      1  \n",
       "8648     35  "
      ]
     },
     "execution_count": 9,
     "metadata": {},
     "output_type": "execute_result"
    }
   ],
   "source": [
    "df_rest.query('chain.isna()')"
   ]
  },
  {
   "cell_type": "markdown",
   "id": "4b8da4c6-f70b-46fe-b816-1c0762054b5f",
   "metadata": {},
   "source": [
    "We have three restaurants that were not assigned any values in the 'chain' column. Since we have a large amount of data, a lot of establishments, by rule of thumb we can say that every venue which has more than 1 establishment under its name belongs to 'chain' category (=True value). Thus if NAN's above have no another establishments under the same name we can consider them as independent business (=False value)."
   ]
  },
  {
   "cell_type": "markdown",
   "id": "61886930-247b-47e7-adaf-455667452068",
   "metadata": {},
   "source": [
    "Counting number of unique 'chain 'values for each venue's name and searching for those who have more than 2 unique values (both True and False)"
   ]
  },
  {
   "cell_type": "code",
   "execution_count": 10,
   "id": "b321ca76-e7b5-4ac4-bc39-4cf6cacc2948",
   "metadata": {},
   "outputs": [
    {
     "data": {
      "text/html": [
       "<div>\n",
       "<style scoped>\n",
       "    .dataframe tbody tr th:only-of-type {\n",
       "        vertical-align: middle;\n",
       "    }\n",
       "\n",
       "    .dataframe tbody tr th {\n",
       "        vertical-align: top;\n",
       "    }\n",
       "\n",
       "    .dataframe thead th {\n",
       "        text-align: right;\n",
       "    }\n",
       "</style>\n",
       "<table border=\"1\" class=\"dataframe\">\n",
       "  <thead>\n",
       "    <tr style=\"text-align: right;\">\n",
       "      <th></th>\n",
       "      <th>id</th>\n",
       "      <th>object_name</th>\n",
       "      <th>address</th>\n",
       "      <th>chain</th>\n",
       "      <th>object_type</th>\n",
       "      <th>seats</th>\n",
       "    </tr>\n",
       "  </thead>\n",
       "  <tbody>\n",
       "    <tr>\n",
       "      <th>0</th>\n",
       "      <td>11786</td>\n",
       "      <td>habitat coffee shop</td>\n",
       "      <td>3708 n eagle rock blvd</td>\n",
       "      <td>False</td>\n",
       "      <td>cafe</td>\n",
       "      <td>26</td>\n",
       "    </tr>\n",
       "    <tr>\n",
       "      <th>1</th>\n",
       "      <td>11787</td>\n",
       "      <td>reilly's</td>\n",
       "      <td>100 world way # 120</td>\n",
       "      <td>False</td>\n",
       "      <td>restaurant</td>\n",
       "      <td>9</td>\n",
       "    </tr>\n",
       "    <tr>\n",
       "      <th>2</th>\n",
       "      <td>11788</td>\n",
       "      <td>street churros</td>\n",
       "      <td>6801 hollywood blvd # 253</td>\n",
       "      <td>False</td>\n",
       "      <td>fast food</td>\n",
       "      <td>20</td>\n",
       "    </tr>\n",
       "    <tr>\n",
       "      <th>3</th>\n",
       "      <td>11789</td>\n",
       "      <td>triniti echo park</td>\n",
       "      <td>1814 w sunset blvd</td>\n",
       "      <td>False</td>\n",
       "      <td>restaurant</td>\n",
       "      <td>22</td>\n",
       "    </tr>\n",
       "    <tr>\n",
       "      <th>4</th>\n",
       "      <td>11790</td>\n",
       "      <td>pollen</td>\n",
       "      <td>2100 echo park ave</td>\n",
       "      <td>False</td>\n",
       "      <td>restaurant</td>\n",
       "      <td>20</td>\n",
       "    </tr>\n",
       "  </tbody>\n",
       "</table>\n",
       "</div>"
      ],
      "text/plain": [
       "      id          object_name                    address  chain object_type  \\\n",
       "0  11786  habitat coffee shop     3708 n eagle rock blvd  False        cafe   \n",
       "1  11787             reilly's        100 world way # 120  False  restaurant   \n",
       "2  11788       street churros  6801 hollywood blvd # 253  False   fast food   \n",
       "3  11789    triniti echo park         1814 w sunset blvd  False  restaurant   \n",
       "4  11790               pollen         2100 echo park ave  False  restaurant   \n",
       "\n",
       "   seats  \n",
       "0     26  \n",
       "1      9  \n",
       "2     20  \n",
       "3     22  \n",
       "4     20  "
      ]
     },
     "execution_count": 10,
     "metadata": {},
     "output_type": "execute_result"
    }
   ],
   "source": [
    "df_rest.head()"
   ]
  },
  {
   "cell_type": "code",
   "execution_count": 11,
   "id": "f0f28647-eabd-42bf-916e-1b6db9c01a05",
   "metadata": {},
   "outputs": [
    {
     "data": {
      "text/html": [
       "<div>\n",
       "<style scoped>\n",
       "    .dataframe tbody tr th:only-of-type {\n",
       "        vertical-align: middle;\n",
       "    }\n",
       "\n",
       "    .dataframe tbody tr th {\n",
       "        vertical-align: top;\n",
       "    }\n",
       "\n",
       "    .dataframe thead th {\n",
       "        text-align: right;\n",
       "    }\n",
       "</style>\n",
       "<table border=\"1\" class=\"dataframe\">\n",
       "  <thead>\n",
       "    <tr style=\"text-align: right;\">\n",
       "      <th></th>\n",
       "      <th>object_name</th>\n",
       "      <th>chain</th>\n",
       "    </tr>\n",
       "  </thead>\n",
       "  <tbody>\n",
       "    <tr>\n",
       "      <th>2344</th>\n",
       "      <td>el super</td>\n",
       "      <td>2</td>\n",
       "    </tr>\n",
       "    <tr>\n",
       "      <th>2557</th>\n",
       "      <td>flame broiler</td>\n",
       "      <td>2</td>\n",
       "    </tr>\n",
       "    <tr>\n",
       "      <th>4753</th>\n",
       "      <td>martha's kitchen</td>\n",
       "      <td>2</td>\n",
       "    </tr>\n",
       "    <tr>\n",
       "      <th>5368</th>\n",
       "      <td>nordstrom</td>\n",
       "      <td>2</td>\n",
       "    </tr>\n",
       "    <tr>\n",
       "      <th>6842</th>\n",
       "      <td>southern california pizza co llc</td>\n",
       "      <td>2</td>\n",
       "    </tr>\n",
       "    <tr>\n",
       "      <th>6885</th>\n",
       "      <td>sprouts farmers market</td>\n",
       "      <td>2</td>\n",
       "    </tr>\n",
       "    <tr>\n",
       "      <th>8383</th>\n",
       "      <td>wetzels pretzel's</td>\n",
       "      <td>2</td>\n",
       "    </tr>\n",
       "  </tbody>\n",
       "</table>\n",
       "</div>"
      ],
      "text/plain": [
       "                           object_name  chain\n",
       "2344                          el super      2\n",
       "2557                     flame broiler      2\n",
       "4753                  martha's kitchen      2\n",
       "5368                         nordstrom      2\n",
       "6842  southern california pizza co llc      2\n",
       "6885            sprouts farmers market      2\n",
       "8383                 wetzels pretzel's      2"
      ]
     },
     "execution_count": 11,
     "metadata": {},
     "output_type": "execute_result"
    }
   ],
   "source": [
    "df_rest.groupby('object_name')['chain'].nunique().reset_index().query('chain>1')"
   ]
  },
  {
   "cell_type": "markdown",
   "id": "3e916e12-8da0-4818-bfac-df81c38f0248",
   "metadata": {},
   "source": [
    "But, after counting number of unique 'chain 'values for each venue's name it turned out that this was not 100% true for our data. We found a few establishments that were assigned as both chain and independent businesses. We will investigate how many establishments fall into each category and then decide how to proceed"
   ]
  },
  {
   "cell_type": "code",
   "execution_count": 12,
   "id": "54cb023a-2a05-4a91-95af-f8da6fb2b857",
   "metadata": {},
   "outputs": [
    {
     "name": "stdout",
     "output_type": "stream",
     "text": [
      "number of el super's: 5\n",
      "number of flame broiler's: 2\n",
      "number of martha's kitchen's: 2\n",
      "number of nordstrom's: 3\n",
      "number of southern california pizza co llc's: 2\n",
      "number of sprouts farmers market's: 2\n",
      "number of wetzels pretzel's's: 2\n"
     ]
    }
   ],
   "source": [
    "restaurant_list = ['el super', 'flame broiler','martha\\'s kitchen',\n",
    "                   'nordstrom','southern california pizza co llc',\n",
    "                   'sprouts farmers market','wetzels pretzel\\'s']\n",
    "for name in restaurant_list:\n",
    "    result = df_rest.query('object_name==\"{}\"'.format(name))\n",
    "    print(f'number of {name}\\'s: {len(result)}')"
   ]
  },
  {
   "cell_type": "code",
   "execution_count": 13,
   "id": "9922945e-92b4-4168-a7f3-e1e625b35644",
   "metadata": {},
   "outputs": [
    {
     "data": {
      "text/html": [
       "<div>\n",
       "<style scoped>\n",
       "    .dataframe tbody tr th:only-of-type {\n",
       "        vertical-align: middle;\n",
       "    }\n",
       "\n",
       "    .dataframe tbody tr th {\n",
       "        vertical-align: top;\n",
       "    }\n",
       "\n",
       "    .dataframe thead th {\n",
       "        text-align: right;\n",
       "    }\n",
       "</style>\n",
       "<table border=\"1\" class=\"dataframe\">\n",
       "  <thead>\n",
       "    <tr style=\"text-align: right;\">\n",
       "      <th></th>\n",
       "      <th>id</th>\n",
       "      <th>object_name</th>\n",
       "      <th>address</th>\n",
       "      <th>chain</th>\n",
       "      <th>object_type</th>\n",
       "      <th>seats</th>\n",
       "    </tr>\n",
       "  </thead>\n",
       "  <tbody>\n",
       "    <tr>\n",
       "      <th>2468</th>\n",
       "      <td>14254</td>\n",
       "      <td>el super</td>\n",
       "      <td>5610 york blvd</td>\n",
       "      <td>False</td>\n",
       "      <td>restaurant</td>\n",
       "      <td>21</td>\n",
       "    </tr>\n",
       "    <tr>\n",
       "      <th>4704</th>\n",
       "      <td>16490</td>\n",
       "      <td>el super</td>\n",
       "      <td>1301 e gage ave</td>\n",
       "      <td>True</td>\n",
       "      <td>restaurant</td>\n",
       "      <td>19</td>\n",
       "    </tr>\n",
       "    <tr>\n",
       "      <th>4772</th>\n",
       "      <td>16558</td>\n",
       "      <td>el super</td>\n",
       "      <td>1100 w slauson ave</td>\n",
       "      <td>True</td>\n",
       "      <td>restaurant</td>\n",
       "      <td>11</td>\n",
       "    </tr>\n",
       "    <tr>\n",
       "      <th>5027</th>\n",
       "      <td>16813</td>\n",
       "      <td>el super</td>\n",
       "      <td>3405 e cesar e chavez ave</td>\n",
       "      <td>False</td>\n",
       "      <td>restaurant</td>\n",
       "      <td>8</td>\n",
       "    </tr>\n",
       "    <tr>\n",
       "      <th>8461</th>\n",
       "      <td>20247</td>\n",
       "      <td>el super</td>\n",
       "      <td>310 e florence ave</td>\n",
       "      <td>False</td>\n",
       "      <td>restaurant</td>\n",
       "      <td>2</td>\n",
       "    </tr>\n",
       "  </tbody>\n",
       "</table>\n",
       "</div>"
      ],
      "text/plain": [
       "         id object_name                    address  chain object_type  seats\n",
       "2468  14254    el super             5610 york blvd  False  restaurant     21\n",
       "4704  16490    el super            1301 e gage ave   True  restaurant     19\n",
       "4772  16558    el super         1100 w slauson ave   True  restaurant     11\n",
       "5027  16813    el super  3405 e cesar e chavez ave  False  restaurant      8\n",
       "8461  20247    el super         310 e florence ave  False  restaurant      2"
      ]
     },
     "execution_count": 13,
     "metadata": {},
     "output_type": "execute_result"
    }
   ],
   "source": [
    "df_rest.query('object_name ==\"el super\"')"
   ]
  },
  {
   "cell_type": "markdown",
   "id": "c1551e7a-f6c5-43f1-b843-d0cb3a67b448",
   "metadata": {},
   "source": [
    "Now we have no doubts, each of the establishments from the list above should be assigned to the True value, since we have several restaurants under each name. However, what do we do with the NaN values? Let's examine them and after make changes to both groups."
   ]
  },
  {
   "cell_type": "code",
   "execution_count": 14,
   "id": "f14c8e64-d74a-4c0e-98ae-11d426e23d91",
   "metadata": {},
   "outputs": [
    {
     "name": "stdout",
     "output_type": "stream",
     "text": [
      "number of taqueria los 3 carnales's: 1\n",
      "number of jammin jimmy's pizza's: 1\n",
      "number of the lexington theater's: 1\n"
     ]
    }
   ],
   "source": [
    "NAN_restaurant_list = ['taqueria los 3 carnales', 'jammin jimmy\\'s pizza', 'the lexington theater']\n",
    "\n",
    "for restaurant in NAN_restaurant_list:\n",
    "    NAN_result = df_rest.query('object_name==\"{}\"'.format(restaurant))\n",
    "    print(f'number of {restaurant}\\'s: {len(NAN_result)}')"
   ]
  },
  {
   "cell_type": "markdown",
   "id": "d115c5b5-4027-42e3-8900-ae8fb7a6b68d",
   "metadata": {},
   "source": [
    "Since the names of the establishments with missing values do not repeat in our data, we can consider them as independent businesses."
   ]
  },
  {
   "cell_type": "code",
   "execution_count": 15,
   "id": "de8ed201-cebd-4963-92c2-2ec1697d6b57",
   "metadata": {},
   "outputs": [],
   "source": [
    "df_rest.loc[df_rest['object_name'].isin([\n",
    "                                    'taqueria los 3 carnales', \n",
    "                                    'jammin jimmy\\'s pizza',\n",
    "                                    'the lexington theater']), 'chain'] = \"False\""
   ]
  },
  {
   "cell_type": "code",
   "execution_count": 16,
   "id": "910f2f15-1060-4c96-ae0c-f7ee29e599c5",
   "metadata": {},
   "outputs": [],
   "source": [
    "df_rest.loc[df_rest['object_name'].isin([\n",
    "                                    'el super',\n",
    "                                    'flame broiler',\n",
    "                                    'martha\\'s kitchen',\n",
    "                                    'nordstrom','southern california pizza co llc',\n",
    "                                    'sprouts farmers market',\n",
    "                                    'wetzels pretzel\\'s']), 'chain'] = \"True\""
   ]
  },
  {
   "cell_type": "code",
   "execution_count": 17,
   "id": "11701869-37f4-4db0-8c5d-dfeb2197dad3",
   "metadata": {},
   "outputs": [
    {
     "data": {
      "text/html": [
       "<div>\n",
       "<style scoped>\n",
       "    .dataframe tbody tr th:only-of-type {\n",
       "        vertical-align: middle;\n",
       "    }\n",
       "\n",
       "    .dataframe tbody tr th {\n",
       "        vertical-align: top;\n",
       "    }\n",
       "\n",
       "    .dataframe thead th {\n",
       "        text-align: right;\n",
       "    }\n",
       "</style>\n",
       "<table border=\"1\" class=\"dataframe\">\n",
       "  <thead>\n",
       "    <tr style=\"text-align: right;\">\n",
       "      <th></th>\n",
       "      <th>id</th>\n",
       "      <th>object_name</th>\n",
       "      <th>address</th>\n",
       "      <th>chain</th>\n",
       "      <th>object_type</th>\n",
       "      <th>seats</th>\n",
       "    </tr>\n",
       "  </thead>\n",
       "  <tbody>\n",
       "    <tr>\n",
       "      <th>7408</th>\n",
       "      <td>19194</td>\n",
       "      <td>taqueria los 3 carnales</td>\n",
       "      <td>5000 e whittier blvd</td>\n",
       "      <td>False</td>\n",
       "      <td>restaurant</td>\n",
       "      <td>14</td>\n",
       "    </tr>\n",
       "  </tbody>\n",
       "</table>\n",
       "</div>"
      ],
      "text/plain": [
       "         id              object_name               address  chain object_type  \\\n",
       "7408  19194  taqueria los 3 carnales  5000 e whittier blvd  False  restaurant   \n",
       "\n",
       "      seats  \n",
       "7408     14  "
      ]
     },
     "execution_count": 17,
     "metadata": {},
     "output_type": "execute_result"
    }
   ],
   "source": [
    "df_rest.query('object_name==\"taqueria los 3 carnales\"')"
   ]
  },
  {
   "cell_type": "code",
   "execution_count": 18,
   "id": "24bb1e41-3bb2-418a-bfd1-537a732359cc",
   "metadata": {},
   "outputs": [
    {
     "data": {
      "text/html": [
       "<div>\n",
       "<style scoped>\n",
       "    .dataframe tbody tr th:only-of-type {\n",
       "        vertical-align: middle;\n",
       "    }\n",
       "\n",
       "    .dataframe tbody tr th {\n",
       "        vertical-align: top;\n",
       "    }\n",
       "\n",
       "    .dataframe thead th {\n",
       "        text-align: right;\n",
       "    }\n",
       "</style>\n",
       "<table border=\"1\" class=\"dataframe\">\n",
       "  <thead>\n",
       "    <tr style=\"text-align: right;\">\n",
       "      <th></th>\n",
       "      <th>object_name</th>\n",
       "      <th>chain</th>\n",
       "    </tr>\n",
       "  </thead>\n",
       "  <tbody>\n",
       "  </tbody>\n",
       "</table>\n",
       "</div>"
      ],
      "text/plain": [
       "Empty DataFrame\n",
       "Columns: [object_name, chain]\n",
       "Index: []"
      ]
     },
     "execution_count": 18,
     "metadata": {},
     "output_type": "execute_result"
    }
   ],
   "source": [
    "df_rest.groupby('object_name')['chain'].nunique().reset_index().query('chain>1')"
   ]
  },
  {
   "cell_type": "markdown",
   "id": "62c37d7e-0d8a-40db-ab93-c7cb2b725a48",
   "metadata": {},
   "source": [
    "The incorrect values in the 'chain' column have been replaced, and we are now set to modify the data type for this column"
   ]
  },
  {
   "cell_type": "code",
   "execution_count": 19,
   "id": "9db60298-7711-4175-9822-1e3a02204ba7",
   "metadata": {},
   "outputs": [
    {
     "data": {
      "text/plain": [
       "array([False,  True])"
      ]
     },
     "execution_count": 19,
     "metadata": {},
     "output_type": "execute_result"
    }
   ],
   "source": [
    "df_rest['chain'] = df_rest['chain'].astype(bool)\n",
    "df_rest['chain'].unique()"
   ]
  },
  {
   "cell_type": "code",
   "execution_count": 20,
   "id": "63311395-7861-47ed-b1e5-9b1b372bf694",
   "metadata": {},
   "outputs": [],
   "source": [
    "df_rest['object_type'] = df_rest['object_type'].astype('category')"
   ]
  },
  {
   "cell_type": "markdown",
   "id": "e2b2dda6-c402-4b01-98b5-a7378257942a",
   "metadata": {},
   "source": [
    "In order to address chain/non-chain establishments in a more convenient manner than recalling what true/false means I suggest creating a new column based on existing: true = chain establishment, false = independent establishments."
   ]
  },
  {
   "cell_type": "code",
   "execution_count": 21,
   "id": "d2f02d34-3aeb-4a28-ae9a-58a27da1a729",
   "metadata": {},
   "outputs": [],
   "source": [
    "df_rest['chain_category'] = df_rest['chain'].agg(lambda x: 'chain' if x==True else 'independent').astype('category')"
   ]
  },
  {
   "cell_type": "code",
   "execution_count": 22,
   "id": "6576df6f-bf58-454c-af4f-48b74704d124",
   "metadata": {},
   "outputs": [
    {
     "name": "stdout",
     "output_type": "stream",
     "text": [
      "<class 'pandas.core.frame.DataFrame'>\n",
      "RangeIndex: 9651 entries, 0 to 9650\n",
      "Data columns (total 7 columns):\n",
      " #   Column          Non-Null Count  Dtype   \n",
      "---  ------          --------------  -----   \n",
      " 0   id              9651 non-null   int64   \n",
      " 1   object_name     9651 non-null   object  \n",
      " 2   address         9651 non-null   object  \n",
      " 3   chain           9651 non-null   bool    \n",
      " 4   object_type     9651 non-null   category\n",
      " 5   seats           9651 non-null   int64   \n",
      " 6   chain_category  9651 non-null   category\n",
      "dtypes: bool(1), category(2), int64(2), object(2)\n",
      "memory usage: 1.6 MB\n"
     ]
    }
   ],
   "source": [
    "df_rest.info(memory_usage = 'deep')"
   ]
  },
  {
   "cell_type": "markdown",
   "id": "54532db2-a74b-4c07-8fe9-8e06a423ecda",
   "metadata": {},
   "source": [
    "In addition to the list of issues we dealt with above, during the later stages of the project, we discovered implicit duplicates in the 'object_name' column, such as:\n",
    "- kfc & kentucky fried chicken\n",
    "- subway & subway sandwich\n",
    "- 23rd st cafe & 23rd st. cafe\n",
    "- a lot of different entities who have # and some digits in its name\n",
    "\n",
    "There are some examples bellow"
   ]
  },
  {
   "cell_type": "code",
   "execution_count": 23,
   "id": "7c44194b-06d6-49de-b22d-f6e0e7bed030",
   "metadata": {},
   "outputs": [
    {
     "data": {
      "text/html": [
       "<div>\n",
       "<style scoped>\n",
       "    .dataframe tbody tr th:only-of-type {\n",
       "        vertical-align: middle;\n",
       "    }\n",
       "\n",
       "    .dataframe tbody tr th {\n",
       "        vertical-align: top;\n",
       "    }\n",
       "\n",
       "    .dataframe thead th {\n",
       "        text-align: right;\n",
       "    }\n",
       "</style>\n",
       "<table border=\"1\" class=\"dataframe\">\n",
       "  <thead>\n",
       "    <tr style=\"text-align: right;\">\n",
       "      <th></th>\n",
       "      <th>id</th>\n",
       "      <th>object_name</th>\n",
       "      <th>address</th>\n",
       "      <th>chain</th>\n",
       "      <th>object_type</th>\n",
       "      <th>seats</th>\n",
       "      <th>chain_category</th>\n",
       "    </tr>\n",
       "  </thead>\n",
       "  <tbody>\n",
       "    <tr>\n",
       "      <th>40</th>\n",
       "      <td>11826</td>\n",
       "      <td>subway -52105</td>\n",
       "      <td>255 s grand ave ste 101</td>\n",
       "      <td>True</td>\n",
       "      <td>fast food</td>\n",
       "      <td>37</td>\n",
       "      <td>chain</td>\n",
       "    </tr>\n",
       "    <tr>\n",
       "      <th>82</th>\n",
       "      <td>11868</td>\n",
       "      <td>subway #39685</td>\n",
       "      <td>704 w 1st st</td>\n",
       "      <td>True</td>\n",
       "      <td>fast food</td>\n",
       "      <td>3</td>\n",
       "      <td>chain</td>\n",
       "    </tr>\n",
       "    <tr>\n",
       "      <th>118</th>\n",
       "      <td>11904</td>\n",
       "      <td>subway #14183</td>\n",
       "      <td>508 w 7th st</td>\n",
       "      <td>True</td>\n",
       "      <td>fast food</td>\n",
       "      <td>4</td>\n",
       "      <td>chain</td>\n",
       "    </tr>\n",
       "    <tr>\n",
       "      <th>162</th>\n",
       "      <td>11948</td>\n",
       "      <td>subway #12484</td>\n",
       "      <td>5339 w centinela ave ste #a</td>\n",
       "      <td>True</td>\n",
       "      <td>fast food</td>\n",
       "      <td>24</td>\n",
       "      <td>chain</td>\n",
       "    </tr>\n",
       "    <tr>\n",
       "      <th>182</th>\n",
       "      <td>11968</td>\n",
       "      <td>subway #1763</td>\n",
       "      <td>3959 wilshire blvd ste b-7</td>\n",
       "      <td>True</td>\n",
       "      <td>fast food</td>\n",
       "      <td>17</td>\n",
       "      <td>chain</td>\n",
       "    </tr>\n",
       "  </tbody>\n",
       "</table>\n",
       "</div>"
      ],
      "text/plain": [
       "        id    object_name                      address  chain object_type  \\\n",
       "40   11826  subway -52105      255 s grand ave ste 101   True   fast food   \n",
       "82   11868  subway #39685                 704 w 1st st   True   fast food   \n",
       "118  11904  subway #14183                 508 w 7th st   True   fast food   \n",
       "162  11948  subway #12484  5339 w centinela ave ste #a   True   fast food   \n",
       "182  11968   subway #1763   3959 wilshire blvd ste b-7   True   fast food   \n",
       "\n",
       "     seats chain_category  \n",
       "40      37          chain  \n",
       "82       3          chain  \n",
       "118      4          chain  \n",
       "162     24          chain  \n",
       "182     17          chain  "
      ]
     },
     "execution_count": 23,
     "metadata": {},
     "output_type": "execute_result"
    }
   ],
   "source": [
    "df_rest.query('object_name.str.contains(\"subway\")').head()"
   ]
  },
  {
   "cell_type": "code",
   "execution_count": 24,
   "id": "65fd9734-ed38-4cfc-865a-48f865c7d22b",
   "metadata": {},
   "outputs": [
    {
     "data": {
      "text/html": [
       "<div>\n",
       "<style scoped>\n",
       "    .dataframe tbody tr th:only-of-type {\n",
       "        vertical-align: middle;\n",
       "    }\n",
       "\n",
       "    .dataframe tbody tr th {\n",
       "        vertical-align: top;\n",
       "    }\n",
       "\n",
       "    .dataframe thead th {\n",
       "        text-align: right;\n",
       "    }\n",
       "</style>\n",
       "<table border=\"1\" class=\"dataframe\">\n",
       "  <thead>\n",
       "    <tr style=\"text-align: right;\">\n",
       "      <th></th>\n",
       "      <th>id</th>\n",
       "      <th>object_name</th>\n",
       "      <th>address</th>\n",
       "      <th>chain</th>\n",
       "      <th>object_type</th>\n",
       "      <th>seats</th>\n",
       "      <th>chain_category</th>\n",
       "    </tr>\n",
       "  </thead>\n",
       "  <tbody>\n",
       "    <tr>\n",
       "      <th>2308</th>\n",
       "      <td>14094</td>\n",
       "      <td>23rd st cafe</td>\n",
       "      <td>936 w 23rd st</td>\n",
       "      <td>False</td>\n",
       "      <td>restaurant</td>\n",
       "      <td>32</td>\n",
       "      <td>independent</td>\n",
       "    </tr>\n",
       "    <tr>\n",
       "      <th>7454</th>\n",
       "      <td>19240</td>\n",
       "      <td>23rd st. cafe</td>\n",
       "      <td>936 w 23rd st</td>\n",
       "      <td>False</td>\n",
       "      <td>restaurant</td>\n",
       "      <td>35</td>\n",
       "      <td>independent</td>\n",
       "    </tr>\n",
       "  </tbody>\n",
       "</table>\n",
       "</div>"
      ],
      "text/plain": [
       "         id    object_name        address  chain object_type  seats  \\\n",
       "2308  14094   23rd st cafe  936 w 23rd st  False  restaurant     32   \n",
       "7454  19240  23rd st. cafe  936 w 23rd st  False  restaurant     35   \n",
       "\n",
       "     chain_category  \n",
       "2308    independent  \n",
       "7454    independent  "
      ]
     },
     "execution_count": 24,
     "metadata": {},
     "output_type": "execute_result"
    }
   ],
   "source": [
    "df_rest.query('object_name.str.contains(\"23rd\")').head()"
   ]
  },
  {
   "cell_type": "code",
   "execution_count": 25,
   "id": "9d62251e-9301-4616-85f2-e2513ce6292f",
   "metadata": {},
   "outputs": [
    {
     "data": {
      "text/html": [
       "<div>\n",
       "<style scoped>\n",
       "    .dataframe tbody tr th:only-of-type {\n",
       "        vertical-align: middle;\n",
       "    }\n",
       "\n",
       "    .dataframe tbody tr th {\n",
       "        vertical-align: top;\n",
       "    }\n",
       "\n",
       "    .dataframe thead th {\n",
       "        text-align: right;\n",
       "    }\n",
       "</style>\n",
       "<table border=\"1\" class=\"dataframe\">\n",
       "  <thead>\n",
       "    <tr style=\"text-align: right;\">\n",
       "      <th></th>\n",
       "      <th>id</th>\n",
       "      <th>object_name</th>\n",
       "      <th>address</th>\n",
       "      <th>chain</th>\n",
       "      <th>object_type</th>\n",
       "      <th>seats</th>\n",
       "      <th>chain_category</th>\n",
       "    </tr>\n",
       "  </thead>\n",
       "  <tbody>\n",
       "    <tr>\n",
       "      <th>42</th>\n",
       "      <td>11828</td>\n",
       "      <td>panda express #2596</td>\n",
       "      <td>1544 s la cienega blvd</td>\n",
       "      <td>True</td>\n",
       "      <td>fast food</td>\n",
       "      <td>22</td>\n",
       "      <td>chain</td>\n",
       "    </tr>\n",
       "    <tr>\n",
       "      <th>49</th>\n",
       "      <td>11835</td>\n",
       "      <td>afc sushi at walgreens #1527</td>\n",
       "      <td>1501 n vine st</td>\n",
       "      <td>False</td>\n",
       "      <td>restaurant</td>\n",
       "      <td>8</td>\n",
       "      <td>independent</td>\n",
       "    </tr>\n",
       "    <tr>\n",
       "      <th>55</th>\n",
       "      <td>11841</td>\n",
       "      <td>ralphs market #206</td>\n",
       "      <td>5429 hollywood blvd</td>\n",
       "      <td>False</td>\n",
       "      <td>restaurant</td>\n",
       "      <td>22</td>\n",
       "      <td>independent</td>\n",
       "    </tr>\n",
       "    <tr>\n",
       "      <th>69</th>\n",
       "      <td>11855</td>\n",
       "      <td>mrs field's cooki #426</td>\n",
       "      <td>505 s flower st</td>\n",
       "      <td>False</td>\n",
       "      <td>restaurant</td>\n",
       "      <td>11</td>\n",
       "      <td>independent</td>\n",
       "    </tr>\n",
       "    <tr>\n",
       "      <th>71</th>\n",
       "      <td>11857</td>\n",
       "      <td>mcdonald's #2084</td>\n",
       "      <td>3124 n san fernando rd</td>\n",
       "      <td>True</td>\n",
       "      <td>fast food</td>\n",
       "      <td>112</td>\n",
       "      <td>chain</td>\n",
       "    </tr>\n",
       "  </tbody>\n",
       "</table>\n",
       "</div>"
      ],
      "text/plain": [
       "       id                   object_name                 address  chain  \\\n",
       "42  11828           panda express #2596  1544 s la cienega blvd   True   \n",
       "49  11835  afc sushi at walgreens #1527          1501 n vine st  False   \n",
       "55  11841            ralphs market #206     5429 hollywood blvd  False   \n",
       "69  11855        mrs field's cooki #426         505 s flower st  False   \n",
       "71  11857              mcdonald's #2084  3124 n san fernando rd   True   \n",
       "\n",
       "   object_type  seats chain_category  \n",
       "42   fast food     22          chain  \n",
       "49  restaurant      8    independent  \n",
       "55  restaurant     22    independent  \n",
       "69  restaurant     11    independent  \n",
       "71   fast food    112          chain  "
      ]
     },
     "execution_count": 25,
     "metadata": {},
     "output_type": "execute_result"
    }
   ],
   "source": [
    "df_rest.query('object_name.str.contains(\"#\")').head()"
   ]
  },
  {
   "cell_type": "markdown",
   "id": "bf1dcb5b-12dc-49cf-aaef-a743455a5b88",
   "metadata": {},
   "source": [
    "Moreover, due to data errors, some of these establishments have been incorrectly assigned to the independent category (non-chain), even though they may be part of a chain. In most cases, the presence of additional symbols in the names of establishments hides the fact that there is at least one other venue with the same name.\n",
    "\n",
    "In a real-life scenario, we would pause the project, report the issue to the data engineers, and wait for them to fix the problem before proceeding with our analysis. However, in this project, we don't have that luxury, so we must work with the data that we have.\n",
    "\n",
    "We've observed that some restaurant names contain non-alphanumeric characters, such as symbols,dots,extra space etc. To address this issue, we've decided to use regex to remove these characters and reduce the occurrence of implicit duplicates. Additionally, we've also removed  numbers at the end of some names. \n",
    "\n",
    "However, we are not shure about finding inconsistencies this way, and since we cannot manually check every name, it's possible that some errors may still be present in the dataset. Therefore, it's important to be aware of these data errors and their potential impact on our analysis."
   ]
  },
  {
   "cell_type": "code",
   "execution_count": 26,
   "id": "3b07bfef-780f-40e0-b10a-17e7fd6df66c",
   "metadata": {},
   "outputs": [
    {
     "data": {
      "text/plain": [
       "8672"
      ]
     },
     "execution_count": 26,
     "metadata": {},
     "output_type": "execute_result"
    }
   ],
   "source": [
    "df_rest['object_name'].nunique()"
   ]
  },
  {
   "cell_type": "code",
   "execution_count": 27,
   "id": "0c793b2a-b264-4439-a7c7-cbdd1e5833ab",
   "metadata": {},
   "outputs": [],
   "source": [
    "def regex_str_col(df, cols):\n",
    "    for col in cols:\n",
    "        df[col] = df[col].str.replace(r'\\b(\\d+)$', '', regex=True)\n",
    "        df[col] = df[col].replace('[^a-zA-Z0-9 ]', '', regex=True)\n",
    "        df[col] = df[col].str.strip()\n",
    "    return df\n",
    "\n",
    "cols = ['object_name']\n",
    "df = regex_str_col(df_rest, cols)"
   ]
  },
  {
   "cell_type": "code",
   "execution_count": 28,
   "id": "033745db-3147-49b3-9ec5-ad7ab9bc58ef",
   "metadata": {},
   "outputs": [],
   "source": [
    "df_rest['object_name'] = df_rest['object_name'].str.replace('kentucky fried chicken','kfc')\n",
    "df_rest['object_name'] = df_rest['object_name'].str.replace('subway sandwiches','subway')\n",
    "df_rest['object_name'] = df_rest['object_name'].str.replace('starbucks coffee','starbucks')"
   ]
  },
  {
   "cell_type": "code",
   "execution_count": 29,
   "id": "13e9b295-03ca-40b6-9ae5-6c59e75f6ca6",
   "metadata": {},
   "outputs": [
    {
     "data": {
      "text/plain": [
       "7807"
      ]
     },
     "execution_count": 29,
     "metadata": {},
     "output_type": "execute_result"
    }
   ],
   "source": [
    "df_rest['object_name'].nunique()"
   ]
  },
  {
   "cell_type": "code",
   "execution_count": 30,
   "id": "7db04d01-f2fb-493b-a330-01af1b6918f5",
   "metadata": {},
   "outputs": [
    {
     "data": {
      "text/html": [
       "<div>\n",
       "<style scoped>\n",
       "    .dataframe tbody tr th:only-of-type {\n",
       "        vertical-align: middle;\n",
       "    }\n",
       "\n",
       "    .dataframe tbody tr th {\n",
       "        vertical-align: top;\n",
       "    }\n",
       "\n",
       "    .dataframe thead th {\n",
       "        text-align: right;\n",
       "    }\n",
       "</style>\n",
       "<table border=\"1\" class=\"dataframe\">\n",
       "  <thead>\n",
       "    <tr style=\"text-align: right;\">\n",
       "      <th></th>\n",
       "      <th>id</th>\n",
       "      <th>object_name</th>\n",
       "      <th>address</th>\n",
       "      <th>chain</th>\n",
       "      <th>object_type</th>\n",
       "      <th>seats</th>\n",
       "      <th>chain_category</th>\n",
       "    </tr>\n",
       "  </thead>\n",
       "  <tbody>\n",
       "    <tr>\n",
       "      <th>2308</th>\n",
       "      <td>14094</td>\n",
       "      <td>23rd st cafe</td>\n",
       "      <td>936 w 23rd st</td>\n",
       "      <td>False</td>\n",
       "      <td>restaurant</td>\n",
       "      <td>32</td>\n",
       "      <td>independent</td>\n",
       "    </tr>\n",
       "    <tr>\n",
       "      <th>7454</th>\n",
       "      <td>19240</td>\n",
       "      <td>23rd st cafe</td>\n",
       "      <td>936 w 23rd st</td>\n",
       "      <td>False</td>\n",
       "      <td>restaurant</td>\n",
       "      <td>35</td>\n",
       "      <td>independent</td>\n",
       "    </tr>\n",
       "  </tbody>\n",
       "</table>\n",
       "</div>"
      ],
      "text/plain": [
       "         id   object_name        address  chain object_type  seats  \\\n",
       "2308  14094  23rd st cafe  936 w 23rd st  False  restaurant     32   \n",
       "7454  19240  23rd st cafe  936 w 23rd st  False  restaurant     35   \n",
       "\n",
       "     chain_category  \n",
       "2308    independent  \n",
       "7454    independent  "
      ]
     },
     "execution_count": 30,
     "metadata": {},
     "output_type": "execute_result"
    }
   ],
   "source": [
    "df_rest.query(\"object_name.str.contains('23rd')\").head()"
   ]
  },
  {
   "cell_type": "code",
   "execution_count": 31,
   "id": "ea94e0a6-5998-4c98-8ea3-c277028661ab",
   "metadata": {},
   "outputs": [
    {
     "data": {
      "text/html": [
       "<div>\n",
       "<style scoped>\n",
       "    .dataframe tbody tr th:only-of-type {\n",
       "        vertical-align: middle;\n",
       "    }\n",
       "\n",
       "    .dataframe tbody tr th {\n",
       "        vertical-align: top;\n",
       "    }\n",
       "\n",
       "    .dataframe thead th {\n",
       "        text-align: right;\n",
       "    }\n",
       "</style>\n",
       "<table border=\"1\" class=\"dataframe\">\n",
       "  <thead>\n",
       "    <tr style=\"text-align: right;\">\n",
       "      <th></th>\n",
       "      <th>id</th>\n",
       "      <th>object_name</th>\n",
       "      <th>address</th>\n",
       "      <th>chain</th>\n",
       "      <th>object_type</th>\n",
       "      <th>seats</th>\n",
       "      <th>chain_category</th>\n",
       "    </tr>\n",
       "  </thead>\n",
       "  <tbody>\n",
       "    <tr>\n",
       "      <th>40</th>\n",
       "      <td>11826</td>\n",
       "      <td>subway</td>\n",
       "      <td>255 s grand ave ste 101</td>\n",
       "      <td>True</td>\n",
       "      <td>fast food</td>\n",
       "      <td>37</td>\n",
       "      <td>chain</td>\n",
       "    </tr>\n",
       "    <tr>\n",
       "      <th>82</th>\n",
       "      <td>11868</td>\n",
       "      <td>subway</td>\n",
       "      <td>704 w 1st st</td>\n",
       "      <td>True</td>\n",
       "      <td>fast food</td>\n",
       "      <td>3</td>\n",
       "      <td>chain</td>\n",
       "    </tr>\n",
       "    <tr>\n",
       "      <th>118</th>\n",
       "      <td>11904</td>\n",
       "      <td>subway</td>\n",
       "      <td>508 w 7th st</td>\n",
       "      <td>True</td>\n",
       "      <td>fast food</td>\n",
       "      <td>4</td>\n",
       "      <td>chain</td>\n",
       "    </tr>\n",
       "    <tr>\n",
       "      <th>162</th>\n",
       "      <td>11948</td>\n",
       "      <td>subway</td>\n",
       "      <td>5339 w centinela ave ste #a</td>\n",
       "      <td>True</td>\n",
       "      <td>fast food</td>\n",
       "      <td>24</td>\n",
       "      <td>chain</td>\n",
       "    </tr>\n",
       "    <tr>\n",
       "      <th>182</th>\n",
       "      <td>11968</td>\n",
       "      <td>subway</td>\n",
       "      <td>3959 wilshire blvd ste b-7</td>\n",
       "      <td>True</td>\n",
       "      <td>fast food</td>\n",
       "      <td>17</td>\n",
       "      <td>chain</td>\n",
       "    </tr>\n",
       "  </tbody>\n",
       "</table>\n",
       "</div>"
      ],
      "text/plain": [
       "        id object_name                      address  chain object_type  seats  \\\n",
       "40   11826      subway      255 s grand ave ste 101   True   fast food     37   \n",
       "82   11868      subway                 704 w 1st st   True   fast food      3   \n",
       "118  11904      subway                 508 w 7th st   True   fast food      4   \n",
       "162  11948      subway  5339 w centinela ave ste #a   True   fast food     24   \n",
       "182  11968      subway   3959 wilshire blvd ste b-7   True   fast food     17   \n",
       "\n",
       "    chain_category  \n",
       "40           chain  \n",
       "82           chain  \n",
       "118          chain  \n",
       "162          chain  \n",
       "182          chain  "
      ]
     },
     "execution_count": 31,
     "metadata": {},
     "output_type": "execute_result"
    }
   ],
   "source": [
    "df_rest.query(\"object_name.str.contains('subway')\").head()"
   ]
  },
  {
   "cell_type": "code",
   "execution_count": 32,
   "id": "b10e060d-66b9-4328-acbf-3bb32292cff2",
   "metadata": {},
   "outputs": [
    {
     "data": {
      "text/html": [
       "<div>\n",
       "<style scoped>\n",
       "    .dataframe tbody tr th:only-of-type {\n",
       "        vertical-align: middle;\n",
       "    }\n",
       "\n",
       "    .dataframe tbody tr th {\n",
       "        vertical-align: top;\n",
       "    }\n",
       "\n",
       "    .dataframe thead th {\n",
       "        text-align: right;\n",
       "    }\n",
       "</style>\n",
       "<table border=\"1\" class=\"dataframe\">\n",
       "  <thead>\n",
       "    <tr style=\"text-align: right;\">\n",
       "      <th></th>\n",
       "      <th>id</th>\n",
       "      <th>object_name</th>\n",
       "      <th>address</th>\n",
       "      <th>chain</th>\n",
       "      <th>object_type</th>\n",
       "      <th>seats</th>\n",
       "      <th>chain_category</th>\n",
       "    </tr>\n",
       "  </thead>\n",
       "  <tbody>\n",
       "  </tbody>\n",
       "</table>\n",
       "</div>"
      ],
      "text/plain": [
       "Empty DataFrame\n",
       "Columns: [id, object_name, address, chain, object_type, seats, chain_category]\n",
       "Index: []"
      ]
     },
     "execution_count": 32,
     "metadata": {},
     "output_type": "execute_result"
    }
   ],
   "source": [
    "df_rest.query(\"object_name.str.contains('#')\").head()"
   ]
  },
  {
   "cell_type": "code",
   "execution_count": 33,
   "id": "d0b49a15-0591-412a-9139-c8f254539077",
   "metadata": {},
   "outputs": [
    {
     "data": {
      "text/html": [
       "<div>\n",
       "<style scoped>\n",
       "    .dataframe tbody tr th:only-of-type {\n",
       "        vertical-align: middle;\n",
       "    }\n",
       "\n",
       "    .dataframe tbody tr th {\n",
       "        vertical-align: top;\n",
       "    }\n",
       "\n",
       "    .dataframe thead th {\n",
       "        text-align: right;\n",
       "    }\n",
       "</style>\n",
       "<table border=\"1\" class=\"dataframe\">\n",
       "  <thead>\n",
       "    <tr style=\"text-align: right;\">\n",
       "      <th></th>\n",
       "      <th>id</th>\n",
       "      <th>object_name</th>\n",
       "      <th>address</th>\n",
       "      <th>chain</th>\n",
       "      <th>object_type</th>\n",
       "      <th>seats</th>\n",
       "      <th>chain_category</th>\n",
       "    </tr>\n",
       "  </thead>\n",
       "  <tbody>\n",
       "    <tr>\n",
       "      <th>106</th>\n",
       "      <td>11892</td>\n",
       "      <td>zankou chicken</td>\n",
       "      <td>7851 w sunset blvd</td>\n",
       "      <td>True</td>\n",
       "      <td>restaurant</td>\n",
       "      <td>40</td>\n",
       "      <td>chain</td>\n",
       "    </tr>\n",
       "    <tr>\n",
       "      <th>517</th>\n",
       "      <td>12303</td>\n",
       "      <td>zankouchicken</td>\n",
       "      <td>1716 s sepulveda blvd</td>\n",
       "      <td>False</td>\n",
       "      <td>restaurant</td>\n",
       "      <td>37</td>\n",
       "      <td>independent</td>\n",
       "    </tr>\n",
       "    <tr>\n",
       "      <th>8509</th>\n",
       "      <td>20295</td>\n",
       "      <td>zankou chicken</td>\n",
       "      <td>5065 w sunset blvd</td>\n",
       "      <td>True</td>\n",
       "      <td>restaurant</td>\n",
       "      <td>67</td>\n",
       "      <td>chain</td>\n",
       "    </tr>\n",
       "  </tbody>\n",
       "</table>\n",
       "</div>"
      ],
      "text/plain": [
       "         id     object_name                address  chain object_type  seats  \\\n",
       "106   11892  zankou chicken     7851 w sunset blvd   True  restaurant     40   \n",
       "517   12303   zankouchicken  1716 s sepulveda blvd  False  restaurant     37   \n",
       "8509  20295  zankou chicken     5065 w sunset blvd   True  restaurant     67   \n",
       "\n",
       "     chain_category  \n",
       "106           chain  \n",
       "517     independent  \n",
       "8509          chain  "
      ]
     },
     "execution_count": 33,
     "metadata": {},
     "output_type": "execute_result"
    }
   ],
   "source": [
    "df_rest.query(\"object_name.str.contains('zankou')\").head()"
   ]
  },
  {
   "cell_type": "markdown",
   "id": "cc4df6dd-f975-4252-b252-e4b50c68ae6f",
   "metadata": {},
   "source": [
    "It worked! We removed non-alphanumeric characters, spaces and numbers at the end of venue's name, which had been contributing to inconsistencies in the 'object_name' field. As a result, the number of unique venue names has decreased by 874 values, from 8 672 to 7802 unique names."
   ]
  },
  {
   "cell_type": "markdown",
   "id": "a89f8f81-75c1-476d-a70e-c9b7a2b37810",
   "metadata": {},
   "source": [
    "Now it is the time to change 'chain_category' for those 'independent' venues that has more than two establishments under its name - any 'independent' venue with more than one establishment should be considered a 'chain'."
   ]
  },
  {
   "cell_type": "code",
   "execution_count": 34,
   "id": "36a638f8-cde1-4155-8b54-c21535d49231",
   "metadata": {},
   "outputs": [
    {
     "data": {
      "text/html": [
       "<div>\n",
       "<style scoped>\n",
       "    .dataframe tbody tr th:only-of-type {\n",
       "        vertical-align: middle;\n",
       "    }\n",
       "\n",
       "    .dataframe tbody tr th {\n",
       "        vertical-align: top;\n",
       "    }\n",
       "\n",
       "    .dataframe thead th {\n",
       "        text-align: right;\n",
       "    }\n",
       "</style>\n",
       "<table border=\"1\" class=\"dataframe\">\n",
       "  <thead>\n",
       "    <tr style=\"text-align: right;\">\n",
       "      <th></th>\n",
       "      <th>object_name</th>\n",
       "      <th>count</th>\n",
       "    </tr>\n",
       "  </thead>\n",
       "  <tbody>\n",
       "    <tr>\n",
       "      <th>17</th>\n",
       "      <td>23rd st cafe</td>\n",
       "      <td>2</td>\n",
       "    </tr>\n",
       "    <tr>\n",
       "      <th>31</th>\n",
       "      <td>5 star market</td>\n",
       "      <td>2</td>\n",
       "    </tr>\n",
       "    <tr>\n",
       "      <th>40</th>\n",
       "      <td>7 star coffee</td>\n",
       "      <td>2</td>\n",
       "    </tr>\n",
       "    <tr>\n",
       "      <th>88</th>\n",
       "      <td>ace sushi  vons</td>\n",
       "      <td>2</td>\n",
       "    </tr>\n",
       "    <tr>\n",
       "      <th>95</th>\n",
       "      <td>admirals club</td>\n",
       "      <td>2</td>\n",
       "    </tr>\n",
       "  </tbody>\n",
       "</table>\n",
       "</div>"
      ],
      "text/plain": [
       "        object_name  count\n",
       "17     23rd st cafe      2\n",
       "31    5 star market      2\n",
       "40    7 star coffee      2\n",
       "88  ace sushi  vons      2\n",
       "95    admirals club      2"
      ]
     },
     "execution_count": 34,
     "metadata": {},
     "output_type": "execute_result"
    }
   ],
   "source": [
    "indep_estab=df_rest.query('chain_category==\"independent\"')\n",
    "indep_estab_count=indep_estab.groupby('object_name')['id'].count().reset_index()\n",
    "indep_estab_count.columns=['object_name','count']\n",
    "estab_change_cat=indep_estab_count.query('count>1')\n",
    "estab_change_cat.head()"
   ]
  },
  {
   "cell_type": "code",
   "execution_count": 35,
   "id": "9715f3fe-c5b5-448f-9321-8eeebfc6dc25",
   "metadata": {},
   "outputs": [
    {
     "data": {
      "text/html": [
       "<div>\n",
       "<style scoped>\n",
       "    .dataframe tbody tr th:only-of-type {\n",
       "        vertical-align: middle;\n",
       "    }\n",
       "\n",
       "    .dataframe tbody tr th {\n",
       "        vertical-align: top;\n",
       "    }\n",
       "\n",
       "    .dataframe thead th {\n",
       "        text-align: right;\n",
       "    }\n",
       "</style>\n",
       "<table border=\"1\" class=\"dataframe\">\n",
       "  <thead>\n",
       "    <tr style=\"text-align: right;\">\n",
       "      <th></th>\n",
       "      <th>id</th>\n",
       "      <th>object_name</th>\n",
       "      <th>address</th>\n",
       "      <th>chain</th>\n",
       "      <th>object_type</th>\n",
       "      <th>seats</th>\n",
       "      <th>chain_category</th>\n",
       "    </tr>\n",
       "  </thead>\n",
       "  <tbody>\n",
       "    <tr>\n",
       "      <th>2308</th>\n",
       "      <td>14094</td>\n",
       "      <td>23rd st cafe</td>\n",
       "      <td>936 w 23rd st</td>\n",
       "      <td>False</td>\n",
       "      <td>restaurant</td>\n",
       "      <td>32</td>\n",
       "      <td>chain</td>\n",
       "    </tr>\n",
       "    <tr>\n",
       "      <th>7454</th>\n",
       "      <td>19240</td>\n",
       "      <td>23rd st cafe</td>\n",
       "      <td>936 w 23rd st</td>\n",
       "      <td>False</td>\n",
       "      <td>restaurant</td>\n",
       "      <td>35</td>\n",
       "      <td>chain</td>\n",
       "    </tr>\n",
       "  </tbody>\n",
       "</table>\n",
       "</div>"
      ],
      "text/plain": [
       "         id   object_name        address  chain object_type  seats  \\\n",
       "2308  14094  23rd st cafe  936 w 23rd st  False  restaurant     32   \n",
       "7454  19240  23rd st cafe  936 w 23rd st  False  restaurant     35   \n",
       "\n",
       "     chain_category  \n",
       "2308          chain  \n",
       "7454          chain  "
      ]
     },
     "execution_count": 35,
     "metadata": {},
     "output_type": "execute_result"
    }
   ],
   "source": [
    "df_rest.loc[df_rest['object_name'].isin(estab_change_cat['object_name']), 'chain_category'] = 'chain'\n",
    "df_rest.query(\"object_name.str.contains('23rd')\").head()\n"
   ]
  },
  {
   "cell_type": "markdown",
   "id": "95857bbd-202d-4243-a1b0-3daa1c171ffb",
   "metadata": {},
   "source": [
    "Now that we have completed the preprocessing stage, let's move on to the analysis"
   ]
  },
  {
   "cell_type": "markdown",
   "id": "bd01f068-f627-4962-a167-cf6b81fe8ab9",
   "metadata": {
    "tags": []
   },
   "source": [
    "# Proportion of Establishments by Type  <a id=\"prop\"></a> "
   ]
  },
  {
   "cell_type": "code",
   "execution_count": 36,
   "id": "caf68db4-afbc-48a2-b8bb-0bbd8779d491",
   "metadata": {},
   "outputs": [
    {
     "data": {
      "text/html": [
       "<div>\n",
       "<style scoped>\n",
       "    .dataframe tbody tr th:only-of-type {\n",
       "        vertical-align: middle;\n",
       "    }\n",
       "\n",
       "    .dataframe tbody tr th {\n",
       "        vertical-align: top;\n",
       "    }\n",
       "\n",
       "    .dataframe thead th {\n",
       "        text-align: right;\n",
       "    }\n",
       "</style>\n",
       "<table border=\"1\" class=\"dataframe\">\n",
       "  <thead>\n",
       "    <tr style=\"text-align: right;\">\n",
       "      <th></th>\n",
       "      <th>object_type</th>\n",
       "      <th>n_types</th>\n",
       "    </tr>\n",
       "  </thead>\n",
       "  <tbody>\n",
       "    <tr>\n",
       "      <th>0</th>\n",
       "      <td>restaurant</td>\n",
       "      <td>7255</td>\n",
       "    </tr>\n",
       "    <tr>\n",
       "      <th>1</th>\n",
       "      <td>fast food</td>\n",
       "      <td>1066</td>\n",
       "    </tr>\n",
       "    <tr>\n",
       "      <th>2</th>\n",
       "      <td>cafe</td>\n",
       "      <td>435</td>\n",
       "    </tr>\n",
       "    <tr>\n",
       "      <th>3</th>\n",
       "      <td>pizza</td>\n",
       "      <td>320</td>\n",
       "    </tr>\n",
       "    <tr>\n",
       "      <th>4</th>\n",
       "      <td>bar</td>\n",
       "      <td>292</td>\n",
       "    </tr>\n",
       "    <tr>\n",
       "      <th>5</th>\n",
       "      <td>bakery</td>\n",
       "      <td>283</td>\n",
       "    </tr>\n",
       "  </tbody>\n",
       "</table>\n",
       "</div>"
      ],
      "text/plain": [
       "  object_type  n_types\n",
       "0  restaurant     7255\n",
       "1   fast food     1066\n",
       "2        cafe      435\n",
       "3       pizza      320\n",
       "4         bar      292\n",
       "5      bakery      283"
      ]
     },
     "execution_count": 36,
     "metadata": {},
     "output_type": "execute_result"
    }
   ],
   "source": [
    "types_count = df_rest['object_type'].value_counts().reset_index()\n",
    "types_count.columns = ['object_type','n_types']\n",
    "types_count"
   ]
  },
  {
   "cell_type": "markdown",
   "id": "31de2ac3-521d-4103-816b-17d294a53bbf",
   "metadata": {},
   "source": [
    "We can see that restaurants are by far the most popular establishment type, with 7255 establishments compared to 1066 fast food outlets. The smallest shares belong to pizza, bars, and bakeries. "
   ]
  },
  {
   "cell_type": "code",
   "execution_count": 37,
   "id": "eb9401ab-9e40-4e86-83ff-f4cc8f6bd84b",
   "metadata": {},
   "outputs": [
    {
     "data": {
      "text/html": [
       "<div>\n",
       "<style scoped>\n",
       "    .dataframe tbody tr th:only-of-type {\n",
       "        vertical-align: middle;\n",
       "    }\n",
       "\n",
       "    .dataframe tbody tr th {\n",
       "        vertical-align: top;\n",
       "    }\n",
       "\n",
       "    .dataframe thead th {\n",
       "        text-align: right;\n",
       "    }\n",
       "</style>\n",
       "<table border=\"1\" class=\"dataframe\">\n",
       "  <thead>\n",
       "    <tr style=\"text-align: right;\">\n",
       "      <th></th>\n",
       "      <th>object_type</th>\n",
       "      <th>share_types</th>\n",
       "    </tr>\n",
       "  </thead>\n",
       "  <tbody>\n",
       "    <tr>\n",
       "      <th>0</th>\n",
       "      <td>restaurant</td>\n",
       "      <td>75.2</td>\n",
       "    </tr>\n",
       "    <tr>\n",
       "      <th>1</th>\n",
       "      <td>fast food</td>\n",
       "      <td>11.0</td>\n",
       "    </tr>\n",
       "    <tr>\n",
       "      <th>2</th>\n",
       "      <td>cafe</td>\n",
       "      <td>4.5</td>\n",
       "    </tr>\n",
       "    <tr>\n",
       "      <th>3</th>\n",
       "      <td>pizza</td>\n",
       "      <td>3.3</td>\n",
       "    </tr>\n",
       "    <tr>\n",
       "      <th>4</th>\n",
       "      <td>bar</td>\n",
       "      <td>3.0</td>\n",
       "    </tr>\n",
       "    <tr>\n",
       "      <th>5</th>\n",
       "      <td>bakery</td>\n",
       "      <td>2.9</td>\n",
       "    </tr>\n",
       "  </tbody>\n",
       "</table>\n",
       "</div>"
      ],
      "text/plain": [
       "  object_type  share_types\n",
       "0  restaurant         75.2\n",
       "1   fast food         11.0\n",
       "2        cafe          4.5\n",
       "3       pizza          3.3\n",
       "4         bar          3.0\n",
       "5      bakery          2.9"
      ]
     },
     "execution_count": 37,
     "metadata": {},
     "output_type": "execute_result"
    }
   ],
   "source": [
    "types_prop = df_rest['object_type'].value_counts(normalize=True).reset_index()\n",
    "types_prop.columns = ['object_type','share_types']\n",
    "types_prop['share_types'] = (types_prop['share_types']*100).round(1)\n",
    "types_prop"
   ]
  },
  {
   "cell_type": "markdown",
   "id": "4e808a76-ca59-4593-baa0-9b104aae6083",
   "metadata": {},
   "source": [
    "Examining the proportions, we can see that restaurants account for 75% of all establishment types. Let's plot it on the bar chart to vizualize the difference."
   ]
  },
  {
   "cell_type": "code",
   "execution_count": 38,
   "id": "8c632eba-2d0a-4bb2-8448-96ba1e23c179",
   "metadata": {},
   "outputs": [
    {
     "data": {
      "image/png": "[encoded data removed]",
      "text/plain": [
       "<Figure size 720x504 with 1 Axes>"
      ]
     },
     "metadata": {},
     "output_type": "display_data"
    }
   ],
   "source": [
    "sns.set(style='darkgrid')\n",
    "plt.figure(figsize=(10, 7))\n",
    "ax = sns.barplot(x='object_type', y='share_types', data=types_prop, palette = 'muted')\n",
    "plt.title('Proportions of Establishments Types', fontsize=16, fontweight='bold')\n",
    "plt.xlabel('Establishment Type')\n",
    "plt.ylabel('Share')\n",
    "for i in ax.containers:\n",
    "    ax.bar_label(i,)\n",
    "plt.show()"
   ]
  },
  {
   "cell_type": "markdown",
   "id": "0b2bd8f4-a79b-46ab-a192-7e109434ec4e",
   "metadata": {},
   "source": [
    "In the graph, it is evident how much the difference between restaurants and other establishments types.\n"
   ]
  },
  {
   "cell_type": "markdown",
   "id": "a84c0d36-b3a9-4259-91e9-8849ff49d5e1",
   "metadata": {
    "tags": []
   },
   "source": [
    "# Proportion of Independent vs. Chain Establishments  <a id=\"Ind_vs_Ch\"></a> "
   ]
  },
  {
   "cell_type": "code",
   "execution_count": 39,
   "id": "bb6e53a9-86b7-496c-a95d-4ed1d7e7847d",
   "metadata": {},
   "outputs": [
    {
     "data": {
      "text/html": [
       "<div>\n",
       "<style scoped>\n",
       "    .dataframe tbody tr th:only-of-type {\n",
       "        vertical-align: middle;\n",
       "    }\n",
       "\n",
       "    .dataframe tbody tr th {\n",
       "        vertical-align: top;\n",
       "    }\n",
       "\n",
       "    .dataframe thead th {\n",
       "        text-align: right;\n",
       "    }\n",
       "</style>\n",
       "<table border=\"1\" class=\"dataframe\">\n",
       "  <thead>\n",
       "    <tr style=\"text-align: right;\">\n",
       "      <th></th>\n",
       "      <th>index</th>\n",
       "      <th>chain_category</th>\n",
       "    </tr>\n",
       "  </thead>\n",
       "  <tbody>\n",
       "    <tr>\n",
       "      <th>0</th>\n",
       "      <td>independent</td>\n",
       "      <td>5659</td>\n",
       "    </tr>\n",
       "    <tr>\n",
       "      <th>1</th>\n",
       "      <td>chain</td>\n",
       "      <td>3992</td>\n",
       "    </tr>\n",
       "  </tbody>\n",
       "</table>\n",
       "</div>"
      ],
      "text/plain": [
       "         index  chain_category\n",
       "0  independent            5659\n",
       "1        chain            3992"
      ]
     },
     "execution_count": 39,
     "metadata": {},
     "output_type": "execute_result"
    }
   ],
   "source": [
    "df_rest['chain_category'].value_counts().reset_index()"
   ]
  },
  {
   "cell_type": "code",
   "execution_count": 40,
   "id": "45e436a6-6c3b-48e1-a992-44c19d4c2c54",
   "metadata": {},
   "outputs": [
    {
     "data": {
      "text/html": [
       "<div>\n",
       "<style scoped>\n",
       "    .dataframe tbody tr th:only-of-type {\n",
       "        vertical-align: middle;\n",
       "    }\n",
       "\n",
       "    .dataframe tbody tr th {\n",
       "        vertical-align: top;\n",
       "    }\n",
       "\n",
       "    .dataframe thead th {\n",
       "        text-align: right;\n",
       "    }\n",
       "</style>\n",
       "<table border=\"1\" class=\"dataframe\">\n",
       "  <thead>\n",
       "    <tr style=\"text-align: right;\">\n",
       "      <th></th>\n",
       "      <th>chain_category</th>\n",
       "      <th>share</th>\n",
       "    </tr>\n",
       "  </thead>\n",
       "  <tbody>\n",
       "    <tr>\n",
       "      <th>0</th>\n",
       "      <td>independent</td>\n",
       "      <td>58.6</td>\n",
       "    </tr>\n",
       "    <tr>\n",
       "      <th>1</th>\n",
       "      <td>chain</td>\n",
       "      <td>41.4</td>\n",
       "    </tr>\n",
       "  </tbody>\n",
       "</table>\n",
       "</div>"
      ],
      "text/plain": [
       "  chain_category  share\n",
       "0    independent   58.6\n",
       "1          chain   41.4"
      ]
     },
     "execution_count": 40,
     "metadata": {},
     "output_type": "execute_result"
    }
   ],
   "source": [
    "chain_prop = df_rest['chain_category'].value_counts(normalize=True).reset_index()\n",
    "chain_prop.columns = ['chain_category','share']\n",
    "chain_prop['share'] = (chain_prop['share']*100).round(1)\n",
    "chain_prop"
   ]
  },
  {
   "cell_type": "markdown",
   "id": "88e3f292-4da4-4e6b-8bb8-a906184d4e50",
   "metadata": {},
   "source": [
    "59% percent of all establishments in LA are independent.\n"
   ]
  },
  {
   "cell_type": "code",
   "execution_count": 41,
   "id": "99cb1c60-0c81-4f2b-9d54-1291ae3168f6",
   "metadata": {},
   "outputs": [
    {
     "data": {
      "image/png": "[encoded data removed]",
      "text/plain": [
       "<Figure size 648x648 with 1 Axes>"
      ]
     },
     "metadata": {},
     "output_type": "display_data"
    }
   ],
   "source": [
    "plt.figure(figsize=(9, 9))\n",
    "plt.title('Proportions of chain/non-chain establishments', fontsize=16, fontweight='bold')\n",
    "plt.pie(chain_prop['share'], labels=chain_prop['chain_category'], autopct='%1.0f%%',\n",
    "        startangle=0,colors=sns.color_palette('muted') ,\n",
    "        textprops={'color':'white','weight':'bold',  'fontsize': 15})\n",
    "plt.legend()\n",
    "plt.show()"
   ]
  },
  {
   "cell_type": "markdown",
   "id": "faa2cdcf-e517-425f-9580-c133bde8bf0a",
   "metadata": {},
   "source": [
    "Now we suggest checking how chains and independent venues are distributed across the different types of establishments. At first we need to group the data. \n"
   ]
  },
  {
   "cell_type": "code",
   "execution_count": 42,
   "id": "afc60bd9-4f85-4d67-b47f-a0382f16e51e",
   "metadata": {},
   "outputs": [
    {
     "data": {
      "text/html": [
       "<div>\n",
       "<style scoped>\n",
       "    .dataframe tbody tr th:only-of-type {\n",
       "        vertical-align: middle;\n",
       "    }\n",
       "\n",
       "    .dataframe tbody tr th {\n",
       "        vertical-align: top;\n",
       "    }\n",
       "\n",
       "    .dataframe thead th {\n",
       "        text-align: right;\n",
       "    }\n",
       "</style>\n",
       "<table border=\"1\" class=\"dataframe\">\n",
       "  <thead>\n",
       "    <tr style=\"text-align: right;\">\n",
       "      <th></th>\n",
       "      <th>type</th>\n",
       "      <th>chain_category</th>\n",
       "      <th>count</th>\n",
       "    </tr>\n",
       "  </thead>\n",
       "  <tbody>\n",
       "    <tr>\n",
       "      <th>0</th>\n",
       "      <td>bakery</td>\n",
       "      <td>chain</td>\n",
       "      <td>283</td>\n",
       "    </tr>\n",
       "    <tr>\n",
       "      <th>1</th>\n",
       "      <td>bakery</td>\n",
       "      <td>independent</td>\n",
       "      <td>0</td>\n",
       "    </tr>\n",
       "    <tr>\n",
       "      <th>2</th>\n",
       "      <td>bar</td>\n",
       "      <td>chain</td>\n",
       "      <td>83</td>\n",
       "    </tr>\n",
       "    <tr>\n",
       "      <th>3</th>\n",
       "      <td>bar</td>\n",
       "      <td>independent</td>\n",
       "      <td>209</td>\n",
       "    </tr>\n",
       "    <tr>\n",
       "      <th>4</th>\n",
       "      <td>cafe</td>\n",
       "      <td>chain</td>\n",
       "      <td>277</td>\n",
       "    </tr>\n",
       "    <tr>\n",
       "      <th>5</th>\n",
       "      <td>cafe</td>\n",
       "      <td>independent</td>\n",
       "      <td>158</td>\n",
       "    </tr>\n",
       "    <tr>\n",
       "      <th>6</th>\n",
       "      <td>fast food</td>\n",
       "      <td>chain</td>\n",
       "      <td>658</td>\n",
       "    </tr>\n",
       "    <tr>\n",
       "      <th>7</th>\n",
       "      <td>fast food</td>\n",
       "      <td>independent</td>\n",
       "      <td>408</td>\n",
       "    </tr>\n",
       "    <tr>\n",
       "      <th>8</th>\n",
       "      <td>pizza</td>\n",
       "      <td>chain</td>\n",
       "      <td>174</td>\n",
       "    </tr>\n",
       "    <tr>\n",
       "      <th>9</th>\n",
       "      <td>pizza</td>\n",
       "      <td>independent</td>\n",
       "      <td>146</td>\n",
       "    </tr>\n",
       "    <tr>\n",
       "      <th>10</th>\n",
       "      <td>restaurant</td>\n",
       "      <td>chain</td>\n",
       "      <td>2517</td>\n",
       "    </tr>\n",
       "    <tr>\n",
       "      <th>11</th>\n",
       "      <td>restaurant</td>\n",
       "      <td>independent</td>\n",
       "      <td>4738</td>\n",
       "    </tr>\n",
       "  </tbody>\n",
       "</table>\n",
       "</div>"
      ],
      "text/plain": [
       "          type chain_category  count\n",
       "0       bakery          chain    283\n",
       "1       bakery    independent      0\n",
       "2          bar          chain     83\n",
       "3          bar    independent    209\n",
       "4         cafe          chain    277\n",
       "5         cafe    independent    158\n",
       "6    fast food          chain    658\n",
       "7    fast food    independent    408\n",
       "8        pizza          chain    174\n",
       "9        pizza    independent    146\n",
       "10  restaurant          chain   2517\n",
       "11  restaurant    independent   4738"
      ]
     },
     "execution_count": 42,
     "metadata": {},
     "output_type": "execute_result"
    }
   ],
   "source": [
    "type_chain = df_rest.groupby(['object_type', 'chain_category']).agg({'id':'nunique'}).reset_index()\n",
    "type_chain.columns = ['type', 'chain_category', 'count']\n",
    "type_chain"
   ]
  },
  {
   "cell_type": "code",
   "execution_count": 43,
   "id": "713d3ef1-1d01-479d-a972-f5f0602bb143",
   "metadata": {},
   "outputs": [
    {
     "data": {
      "image/png": "[encoded data removed]",
      "text/plain": [
       "<Figure size 720x504 with 1 Axes>"
      ]
     },
     "metadata": {},
     "output_type": "display_data"
    }
   ],
   "source": [
    "sns.set(style='darkgrid')\n",
    "plt.figure(figsize=(10, 7))\n",
    "\n",
    "ax = sns.barplot(x='type', y='count', hue='chain_category', data=type_chain, palette = 'muted')\n",
    "plt.title('Count by Establishment Type and Chain Category', fontsize=16, fontweight='bold')\n",
    "plt.xlabel('Establishment Type')\n",
    "plt.ylabel('Count')\n",
    "for i in ax.containers:\n",
    "    ax.bar_label(i,)\n",
    "plt.show()"
   ]
  },
  {
   "cell_type": "markdown",
   "id": "fd2faa2b-6cdb-4a4c-bcf5-72f092cc4a3b",
   "metadata": {},
   "source": [
    "Although independent establishments are the most common overall, the situation varies within each establishment type. Four of the six types (pizza, fast food, cafe, and bakery) have more chain venues, while the other two (restaurant and bakery) have more independent entities. The bakery category has only chain venues and no independent ones. Restaurants as those establishments who have the biggest share in total numbers of outlets skewed overall proportion to independent (inside this type there are almost twice more independent establishments)."
   ]
  },
  {
   "cell_type": "markdown",
   "id": "95d0a907-fd1a-4b70-843e-1e933ded47ef",
   "metadata": {},
   "source": [
    "#  Seats Distribution Across the Categories of Establishments <a id=\"Seat_dist\"></a> "
   ]
  },
  {
   "cell_type": "markdown",
   "id": "b9b7ed0a-878b-4214-9cb1-2f2a138b1941",
   "metadata": {},
   "source": [
    "At first let's have a look at numbers of seats distribution across allover venues data. Adding chains category on 'hue' parameter as well would help up us differentiate the distribution for chain and independent establishments."
   ]
  },
  {
   "cell_type": "code",
   "execution_count": 44,
   "id": "0e44ac16-8c4f-44ef-921a-dc55499c2724",
   "metadata": {},
   "outputs": [
    {
     "data": {
      "image/png": "[encoded data removed]",
      "text/plain": [
       "<Figure size 720x504 with 1 Axes>"
      ]
     },
     "metadata": {},
     "output_type": "display_data"
    }
   ],
   "source": [
    "plt.figure(figsize=(10, 7))\n",
    "sns.histplot(data=df_rest, x=\"seats\", kde=True, bins = 50, hue ='chain_category', palette = 'muted')\n",
    "plt.title('Seats distribution across different establishments categories', fontsize=16, fontweight='bold')\n",
    "plt.xlabel('Seats')\n",
    "plt.ylabel('Density')\n",
    "plt.show()"
   ]
  },
  {
   "cell_type": "code",
   "execution_count": 45,
   "id": "473a5262-8d7d-431b-99b2-143efa8088de",
   "metadata": {},
   "outputs": [],
   "source": [
    "chain_rest=df_rest.query('chain_category==\"chain\"')\n",
    "indep_rest=df_rest.query('chain_category==\"independent\"')"
   ]
  },
  {
   "cell_type": "code",
   "execution_count": 46,
   "id": "9c6b1996-1108-41ee-9331-8d497d135b24",
   "metadata": {},
   "outputs": [
    {
     "name": "stdout",
     "output_type": "stream",
     "text": [
      "Number of chain establishments with more than 50 seats: 711\n",
      "Number of chain establishments with less than 50 seats: 3281\n"
     ]
    }
   ],
   "source": [
    "print(f'Number of chain establishments with more than 50 seats: {len(chain_rest.query(\"seats>50\"))}')\n",
    "print(f'Number of chain establishments with less than 50 seats: {len(chain_rest.query(\"seats<=50\"))}')"
   ]
  },
  {
   "cell_type": "code",
   "execution_count": 47,
   "id": "07208bb7-37e8-4096-9df3-ec651062f982",
   "metadata": {},
   "outputs": [
    {
     "name": "stdout",
     "output_type": "stream",
     "text": [
      "Number of independent establishments with more than 50 seats: 1278\n",
      "Number of independent establishments with less than 50 seats: 4381\n"
     ]
    }
   ],
   "source": [
    "print(f'Number of independent establishments with more than 50 seats: {len(indep_rest.query(\"seats>50\"))}')\n",
    "print(f'Number of independent establishments with less than 50 seats: {len(indep_rest.query(\"seats<=50\"))}')"
   ]
  },
  {
   "cell_type": "markdown",
   "id": "dd9fbeb8-b103-46c7-af2e-c926772110ce",
   "metadata": {},
   "source": [
    "The majority of venues for both chain (80%) and independent (70%) establishments have seats bellow 50."
   ]
  },
  {
   "cell_type": "code",
   "execution_count": 48,
   "id": "97071f8f-3757-45c3-bc09-ad9c254cdcf1",
   "metadata": {},
   "outputs": [
    {
     "name": "stdout",
     "output_type": "stream",
     "text": [
      "Total number of seats in chains' with a capacity of more than 50: 86062, share: 54.2\n",
      "Total number of seats in chains' with a capacity less than 50: 72765, share: 45.8\n"
     ]
    }
   ],
   "source": [
    "many_seats_chain = chain_rest.query('seats>50')['seats'].sum()\n",
    "few_seats_chain = chain_rest.query('seats<=50')['seats'].sum()\n",
    "many_seats_chain_share = ((many_seats_chain/chain_rest['seats'].sum())*100).round(1)\n",
    "few_seats_chain_share = ((few_seats_chain/chain_rest['seats'].sum())*100).round(1)\n",
    "\n",
    "print(f'Total number of seats in chains\\' with a capacity of more than 50: {many_seats_chain}, share: {many_seats_chain_share}')\n",
    "print(f'Total number of seats in chains\\' with a capacity less than 50: {few_seats_chain}, share: {few_seats_chain_share}')"
   ]
  },
  {
   "cell_type": "code",
   "execution_count": 49,
   "id": "acf36c64-d75b-4f23-9d3d-5aede81c63e4",
   "metadata": {},
   "outputs": [
    {
     "name": "stdout",
     "output_type": "stream",
     "text": [
      "Total number of seats in independents' with a capacity of more than 50: 162761, share: 61.9\n",
      "Total number of seats in independents' with a capacity less than 50: 100114, share: 38.1\n"
     ]
    }
   ],
   "source": [
    "indep_rest=df_rest.query('chain_category==\"independent\"')\n",
    "many_seats_indep = indep_rest.query('seats>50')['seats'].sum()\n",
    "few_seats_indep = indep_rest.query('seats<=50')['seats'].sum()\n",
    "many_seats_indep_share = ((many_seats_indep/indep_rest['seats'].sum())*100).round(1)\n",
    "few_seats_indep_share = ((few_seats_indep/indep_rest['seats'].sum())*100).round(1)\n",
    "\n",
    "print(f'Total number of seats in independents\\' with a capacity of more than 50: {many_seats_indep}, share: {many_seats_indep_share}')\n",
    "print(f'Total number of seats in independents\\' with a capacity less than 50: {few_seats_indep}, share: {few_seats_indep_share}')"
   ]
  },
  {
   "cell_type": "markdown",
   "id": "54bc7e9e-496b-4afa-9eee-a4dd066a864c",
   "metadata": {},
   "source": [
    "On other hand establishment with seats over 50 holds more than 50% of the overall market capacity, 54% among chains and 62% among independents. Since we don't have any financial data (revenue, net profit etc) on existing establishments we can't assume which approach is better. Just recording the fact."
   ]
  },
  {
   "cell_type": "markdown",
   "id": "cb894ba2-14d7-4671-89d6-0576b97e237e",
   "metadata": {},
   "source": [
    "Now let's move on to visualize the insight we got above\n"
   ]
  },
  {
   "cell_type": "code",
   "execution_count": 50,
   "id": "be855a11-722b-4b72-99b5-4f04a6216772",
   "metadata": {},
   "outputs": [
    {
     "data": {
      "image/png": "[encoded data removed]",
      "text/plain": [
       "<Figure size 504x504 with 1 Axes>"
      ]
     },
     "metadata": {},
     "output_type": "display_data"
    }
   ],
   "source": [
    "plt.figure(figsize=(7, 7))\n",
    "sns.stripplot(x=\"chain_category\", y=\"seats\",hue=\"chain_category\", data=df_rest, alpha =0.3)\n",
    "plt.title('Seats per establishment by category', fontsize=16, fontweight='bold')\n",
    "plt.xlabel('Establishment categories')\n",
    "plt.ylabel('Seats')\n",
    "plt.show()"
   ]
  },
  {
   "cell_type": "markdown",
   "id": "203258f1-6344-4729-98a8-e577cb374300",
   "metadata": {},
   "source": [
    "The stripplot above provides a general idea of the distribution of seats in the establishments, showing that the vast majority of establishments have seats no more than 50, as indicated by the gap between 50 and 60 and the sharp difference in density after 60. However, it is difficult to compare the total numbers and distribution of seats between chain and independent establishments, and impossible to determine the most popular number of seats due to dots stickiness. Let's try another approach."
   ]
  },
  {
   "cell_type": "code",
   "execution_count": 51,
   "id": "b089d7d5-c60e-4125-897c-73155d7c2581",
   "metadata": {},
   "outputs": [
    {
     "data": {
      "image/png": "[encoded data removed]",
      "text/plain": [
       "<Figure size 504x504 with 1 Axes>"
      ]
     },
     "metadata": {},
     "output_type": "display_data"
    }
   ],
   "source": [
    "plt.figure(figsize=(7, 7))\n",
    "sns.violinplot(y=\"seats\", x = \"chain_category\", data=df_rest, palette='muted')\n",
    "plt.title('Seats distribution by categories (violinplot)', fontsize=16, fontweight='bold')\n",
    "plt.xlabel('Establishment categories')\n",
    "plt.ylabel('Seats')\n",
    "plt.yticks(range(0, 250, 20))\n",
    "plt.show()"
   ]
  },
  {
   "cell_type": "markdown",
   "id": "e69e5cae-5167-44e9-bfdd-96bfac0217b3",
   "metadata": {},
   "source": [
    "With the help of the violin plot, we can conclude:\n",
    "\n",
    "- the most frequent number of seats in both groups is around 20.\n",
    "- high-capacity establishments are rare.\n",
    "- the higher whisker for both distributions indicates that venues with more than 90-100 seats could be cosidired as huge.\n",
    "- despite similarities, the independent establishments have a more even distribution of seats compared to chains. The independent establishments have a larger proportion of high capacity venues compared to chains, as evidenced by the thicker top part,smaller lower part and more round shape of the violin plot."
   ]
  },
  {
   "cell_type": "markdown",
   "id": "3aacd96c-29ca-44ea-bad1-f88c286dabca",
   "metadata": {},
   "source": [
    "And another way - probably the most comprehensible one"
   ]
  },
  {
   "cell_type": "code",
   "execution_count": 52,
   "id": "6c7e987c-bbd8-42af-bfea-bd9a60ee98ee",
   "metadata": {},
   "outputs": [
    {
     "data": {
      "text/html": [
       "<div>\n",
       "<style scoped>\n",
       "    .dataframe tbody tr th:only-of-type {\n",
       "        vertical-align: middle;\n",
       "    }\n",
       "\n",
       "    .dataframe tbody tr th {\n",
       "        vertical-align: top;\n",
       "    }\n",
       "\n",
       "    .dataframe thead th {\n",
       "        text-align: right;\n",
       "    }\n",
       "</style>\n",
       "<table border=\"1\" class=\"dataframe\">\n",
       "  <thead>\n",
       "    <tr style=\"text-align: right;\">\n",
       "      <th></th>\n",
       "      <th>total_seats</th>\n",
       "      <th>chain_category</th>\n",
       "      <th>est_count</th>\n",
       "    </tr>\n",
       "  </thead>\n",
       "  <tbody>\n",
       "    <tr>\n",
       "      <th>9</th>\n",
       "      <td>5</td>\n",
       "      <td>independent</td>\n",
       "      <td>121</td>\n",
       "    </tr>\n",
       "    <tr>\n",
       "      <th>37</th>\n",
       "      <td>19</td>\n",
       "      <td>independent</td>\n",
       "      <td>119</td>\n",
       "    </tr>\n",
       "    <tr>\n",
       "      <th>49</th>\n",
       "      <td>25</td>\n",
       "      <td>independent</td>\n",
       "      <td>117</td>\n",
       "    </tr>\n",
       "    <tr>\n",
       "      <th>21</th>\n",
       "      <td>11</td>\n",
       "      <td>independent</td>\n",
       "      <td>115</td>\n",
       "    </tr>\n",
       "    <tr>\n",
       "      <th>19</th>\n",
       "      <td>10</td>\n",
       "      <td>independent</td>\n",
       "      <td>114</td>\n",
       "    </tr>\n",
       "  </tbody>\n",
       "</table>\n",
       "</div>"
      ],
      "text/plain": [
       "    total_seats chain_category  est_count\n",
       "9             5    independent        121\n",
       "37           19    independent        119\n",
       "49           25    independent        117\n",
       "21           11    independent        115\n",
       "19           10    independent        114"
      ]
     },
     "execution_count": 52,
     "metadata": {},
     "output_type": "execute_result"
    }
   ],
   "source": [
    "overall_stat = df_rest.groupby(['seats','chain_category'])['id'].count().reset_index().sort_values(by='id', ascending = False)\n",
    "overall_stat.columns = ['total_seats','chain_category','est_count']\n",
    "overall_stat.head()"
   ]
  },
  {
   "cell_type": "code",
   "execution_count": 53,
   "id": "53df9ad1-87a6-42a6-ae03-5afb7deb399e",
   "metadata": {},
   "outputs": [
    {
     "data": {
      "image/png": "[encoded data removed]",
      "text/plain": [
       "<Figure size 864x504 with 1 Axes>"
      ]
     },
     "metadata": {},
     "output_type": "display_data"
    }
   ],
   "source": [
    "plt.figure(figsize=(12, 7))\n",
    "sns.set(style='darkgrid')\n",
    "sns.scatterplot(data=overall_stat, x='total_seats', y='est_count',hue = 'chain_category', palette='muted')\n",
    "plt.title('Correlation between of seats and of establishments', fontsize=16, fontweight='bold')\n",
    "plt.xlabel('Seats per establishment')\n",
    "plt.ylabel('Number of establishments')\n",
    "plt.legend()\n",
    "plt.show()"
   ]
  },
  {
   "cell_type": "markdown",
   "id": "a368e8aa-48ce-4997-a77c-ca3517124012",
   "metadata": {},
   "source": [
    "So, to summarize, we can conclude that both chain and independent venues have the same pattern: significantly more establishments with a small number of seats (under 20) and a few establishments with a lot of seats"
   ]
  },
  {
   "cell_type": "markdown",
   "id": "29b535b0-bca9-4c4d-a709-a6291c243c56",
   "metadata": {
    "tags": []
   },
   "source": [
    "# Average Number of Seats by Type of Establishment <a id=\"AVG_seats\"></a> "
   ]
  },
  {
   "cell_type": "markdown",
   "id": "cd5543b5-e1ea-4c08-85c8-7184d2a54a79",
   "metadata": {},
   "source": [
    "Let's determine the average and the median number of seats for each type of establishments\n"
   ]
  },
  {
   "cell_type": "code",
   "execution_count": 54,
   "id": "b67e009b-4673-431f-8c71-6003ed07e321",
   "metadata": {},
   "outputs": [
    {
     "data": {
      "text/html": [
       "<div>\n",
       "<style scoped>\n",
       "    .dataframe tbody tr th:only-of-type {\n",
       "        vertical-align: middle;\n",
       "    }\n",
       "\n",
       "    .dataframe tbody tr th {\n",
       "        vertical-align: top;\n",
       "    }\n",
       "\n",
       "    .dataframe thead th {\n",
       "        text-align: right;\n",
       "    }\n",
       "</style>\n",
       "<table border=\"1\" class=\"dataframe\">\n",
       "  <thead>\n",
       "    <tr style=\"text-align: right;\">\n",
       "      <th></th>\n",
       "      <th>object_type</th>\n",
       "      <th>avg_seats</th>\n",
       "      <th>median_seats</th>\n",
       "    </tr>\n",
       "  </thead>\n",
       "  <tbody>\n",
       "    <tr>\n",
       "      <th>0</th>\n",
       "      <td>bakery</td>\n",
       "      <td>21.8</td>\n",
       "      <td>18.0</td>\n",
       "    </tr>\n",
       "    <tr>\n",
       "      <th>1</th>\n",
       "      <td>bar</td>\n",
       "      <td>44.8</td>\n",
       "      <td>28.5</td>\n",
       "    </tr>\n",
       "    <tr>\n",
       "      <th>2</th>\n",
       "      <td>cafe</td>\n",
       "      <td>25.0</td>\n",
       "      <td>21.0</td>\n",
       "    </tr>\n",
       "    <tr>\n",
       "      <th>3</th>\n",
       "      <td>fast food</td>\n",
       "      <td>31.8</td>\n",
       "      <td>21.0</td>\n",
       "    </tr>\n",
       "    <tr>\n",
       "      <th>4</th>\n",
       "      <td>pizza</td>\n",
       "      <td>28.5</td>\n",
       "      <td>18.5</td>\n",
       "    </tr>\n",
       "    <tr>\n",
       "      <th>5</th>\n",
       "      <td>restaurant</td>\n",
       "      <td>48.0</td>\n",
       "      <td>29.0</td>\n",
       "    </tr>\n",
       "  </tbody>\n",
       "</table>\n",
       "</div>"
      ],
      "text/plain": [
       "  object_type  avg_seats  median_seats\n",
       "0      bakery       21.8          18.0\n",
       "1         bar       44.8          28.5\n",
       "2        cafe       25.0          21.0\n",
       "3   fast food       31.8          21.0\n",
       "4       pizza       28.5          18.5\n",
       "5  restaurant       48.0          29.0"
      ]
     },
     "execution_count": 54,
     "metadata": {},
     "output_type": "execute_result"
    }
   ],
   "source": [
    "type_seats = df_rest.pivot_table (index = 'object_type', values = 'seats', aggfunc = ['mean','median']).reset_index()\n",
    "type_seats.columns = ('object_type','avg_seats','median_seats')\n",
    "type_seats['avg_seats'] = type_seats['avg_seats'].round(1)\n",
    "type_seats"
   ]
  },
  {
   "cell_type": "markdown",
   "id": "9118a261-a718-415e-b372-e4bac1dcc46d",
   "metadata": {},
   "source": [
    "Melting the dataframe in order to plot further median and average values side by side in one bar graph."
   ]
  },
  {
   "cell_type": "code",
   "execution_count": 55,
   "id": "cb0e5856-c4a8-4d8a-9161-f1c465f7703c",
   "metadata": {},
   "outputs": [
    {
     "data": {
      "text/html": [
       "<div>\n",
       "<style scoped>\n",
       "    .dataframe tbody tr th:only-of-type {\n",
       "        vertical-align: middle;\n",
       "    }\n",
       "\n",
       "    .dataframe tbody tr th {\n",
       "        vertical-align: top;\n",
       "    }\n",
       "\n",
       "    .dataframe thead th {\n",
       "        text-align: right;\n",
       "    }\n",
       "</style>\n",
       "<table border=\"1\" class=\"dataframe\">\n",
       "  <thead>\n",
       "    <tr style=\"text-align: right;\">\n",
       "      <th></th>\n",
       "      <th>object_type</th>\n",
       "      <th>statistic</th>\n",
       "      <th>value</th>\n",
       "    </tr>\n",
       "  </thead>\n",
       "  <tbody>\n",
       "    <tr>\n",
       "      <th>0</th>\n",
       "      <td>bakery</td>\n",
       "      <td>avg_seats</td>\n",
       "      <td>21.8</td>\n",
       "    </tr>\n",
       "    <tr>\n",
       "      <th>1</th>\n",
       "      <td>bar</td>\n",
       "      <td>avg_seats</td>\n",
       "      <td>44.8</td>\n",
       "    </tr>\n",
       "    <tr>\n",
       "      <th>2</th>\n",
       "      <td>cafe</td>\n",
       "      <td>avg_seats</td>\n",
       "      <td>25.0</td>\n",
       "    </tr>\n",
       "    <tr>\n",
       "      <th>3</th>\n",
       "      <td>fast food</td>\n",
       "      <td>avg_seats</td>\n",
       "      <td>31.8</td>\n",
       "    </tr>\n",
       "    <tr>\n",
       "      <th>4</th>\n",
       "      <td>pizza</td>\n",
       "      <td>avg_seats</td>\n",
       "      <td>28.5</td>\n",
       "    </tr>\n",
       "  </tbody>\n",
       "</table>\n",
       "</div>"
      ],
      "text/plain": [
       "  object_type  statistic  value\n",
       "0      bakery  avg_seats   21.8\n",
       "1         bar  avg_seats   44.8\n",
       "2        cafe  avg_seats   25.0\n",
       "3   fast food  avg_seats   31.8\n",
       "4       pizza  avg_seats   28.5"
      ]
     },
     "execution_count": 55,
     "metadata": {},
     "output_type": "execute_result"
    }
   ],
   "source": [
    "type_seats_melt = type_seats.melt(id_vars='object_type', value_vars=['avg_seats', 'median_seats'], var_name='statistic')\n",
    "type_seats_melt.head()"
   ]
  },
  {
   "cell_type": "code",
   "execution_count": 56,
   "id": "210ccac0-dac3-43cf-ba87-5faf36198b47",
   "metadata": {},
   "outputs": [
    {
     "data": {
      "image/png": "[encoded data removed]",
      "text/plain": [
       "<Figure size 720x504 with 1 Axes>"
      ]
     },
     "metadata": {},
     "output_type": "display_data"
    }
   ],
   "source": [
    "sns.set(style='darkgrid')\n",
    "plt.figure(figsize=(10, 7))\n",
    "\n",
    "ax = sns.barplot(data = type_seats_melt, x = 'object_type', y = 'value',hue = 'statistic',  palette = 'muted')\n",
    "plt.title(\"Average/median number of seats in each establishment type\", fontsize=16, fontweight='bold')\n",
    "plt.ylabel(\"Number of seats\")\n",
    "plt.xlabel(\"Establishment type\")\n",
    "for i in ax.containers:\n",
    "    ax.bar_label(i,)\n",
    "plt.show()\n",
    "\n"
   ]
  },
  {
   "cell_type": "markdown",
   "id": "275bea3d-9c58-442d-a9c4-fe521c485171",
   "metadata": {},
   "source": [
    "The restaurant category has the highest average number of seats among all establishment types, with an average of 48 seats per venue. Bars come in second with an average of 45 seats per venue. These two categories also have the highest median values for number of seats (29 and 28.5)."
   ]
  },
  {
   "cell_type": "markdown",
   "id": "22d59ae6-d5ef-4dbb-b62a-610f27e8d1ee",
   "metadata": {},
   "source": [
    "# Extracting Street Names from Establishments Addresses <a id=\"ext_street\"></a>\n"
   ]
  },
  {
   "cell_type": "markdown",
   "id": "1fee04b2-dab1-4fe5-82b8-3b087085b414",
   "metadata": {},
   "source": [
    "To get the street names from full addresses, we can use the 'usaddress' library."
   ]
  },
  {
   "cell_type": "code",
   "execution_count": 57,
   "id": "59d8399c-0e16-4987-a74e-b618d471a05b",
   "metadata": {},
   "outputs": [
    {
     "name": "stderr",
     "output_type": "stream",
     "text": [
      "/var/folders/h4/nypjjg6j0z99xyxph5m6ddl80000gn/T/ipykernel_19232/1052265872.py:9: SettingWithCopyWarning: \n",
      "A value is trying to be set on a copy of a slice from a DataFrame\n",
      "\n",
      "See the caveats in the documentation: https://pandas.pydata.org/pandas-docs/stable/user_guide/indexing.html#returning-a-view-versus-a-copy\n",
      "  df_rest['street'][i] = street\n"
     ]
    },
    {
     "data": {
      "text/html": [
       "<div>\n",
       "<style scoped>\n",
       "    .dataframe tbody tr th:only-of-type {\n",
       "        vertical-align: middle;\n",
       "    }\n",
       "\n",
       "    .dataframe tbody tr th {\n",
       "        vertical-align: top;\n",
       "    }\n",
       "\n",
       "    .dataframe thead th {\n",
       "        text-align: right;\n",
       "    }\n",
       "</style>\n",
       "<table border=\"1\" class=\"dataframe\">\n",
       "  <thead>\n",
       "    <tr style=\"text-align: right;\">\n",
       "      <th></th>\n",
       "      <th>id</th>\n",
       "      <th>object_name</th>\n",
       "      <th>address</th>\n",
       "      <th>chain</th>\n",
       "      <th>object_type</th>\n",
       "      <th>seats</th>\n",
       "      <th>chain_category</th>\n",
       "      <th>street</th>\n",
       "    </tr>\n",
       "  </thead>\n",
       "  <tbody>\n",
       "    <tr>\n",
       "      <th>0</th>\n",
       "      <td>11786</td>\n",
       "      <td>habitat coffee shop</td>\n",
       "      <td>3708 n eagle rock blvd</td>\n",
       "      <td>False</td>\n",
       "      <td>cafe</td>\n",
       "      <td>26</td>\n",
       "      <td>independent</td>\n",
       "      <td>rock blvd</td>\n",
       "    </tr>\n",
       "    <tr>\n",
       "      <th>1</th>\n",
       "      <td>11787</td>\n",
       "      <td>reillys</td>\n",
       "      <td>100 world way # 120</td>\n",
       "      <td>False</td>\n",
       "      <td>restaurant</td>\n",
       "      <td>9</td>\n",
       "      <td>independent</td>\n",
       "      <td>world way</td>\n",
       "    </tr>\n",
       "    <tr>\n",
       "      <th>2</th>\n",
       "      <td>11788</td>\n",
       "      <td>street churros</td>\n",
       "      <td>6801 hollywood blvd # 253</td>\n",
       "      <td>False</td>\n",
       "      <td>fast food</td>\n",
       "      <td>20</td>\n",
       "      <td>independent</td>\n",
       "      <td>hollywood blvd</td>\n",
       "    </tr>\n",
       "    <tr>\n",
       "      <th>3</th>\n",
       "      <td>11789</td>\n",
       "      <td>triniti echo park</td>\n",
       "      <td>1814 w sunset blvd</td>\n",
       "      <td>False</td>\n",
       "      <td>restaurant</td>\n",
       "      <td>22</td>\n",
       "      <td>independent</td>\n",
       "      <td>sunset blvd</td>\n",
       "    </tr>\n",
       "    <tr>\n",
       "      <th>4</th>\n",
       "      <td>11790</td>\n",
       "      <td>pollen</td>\n",
       "      <td>2100 echo park ave</td>\n",
       "      <td>False</td>\n",
       "      <td>restaurant</td>\n",
       "      <td>20</td>\n",
       "      <td>independent</td>\n",
       "      <td>park ave</td>\n",
       "    </tr>\n",
       "  </tbody>\n",
       "</table>\n",
       "</div>"
      ],
      "text/plain": [
       "      id          object_name                    address  chain object_type  \\\n",
       "0  11786  habitat coffee shop     3708 n eagle rock blvd  False        cafe   \n",
       "1  11787              reillys        100 world way # 120  False  restaurant   \n",
       "2  11788       street churros  6801 hollywood blvd # 253  False   fast food   \n",
       "3  11789    triniti echo park         1814 w sunset blvd  False  restaurant   \n",
       "4  11790               pollen         2100 echo park ave  False  restaurant   \n",
       "\n",
       "   seats chain_category          street  \n",
       "0     26    independent       rock blvd  \n",
       "1      9    independent       world way  \n",
       "2     20    independent  hollywood blvd  \n",
       "3     22    independent     sunset blvd  \n",
       "4     20    independent        park ave  "
      ]
     },
     "execution_count": 57,
     "metadata": {},
     "output_type": "execute_result"
    }
   ],
   "source": [
    "df_rest['street'] = df_rest['address']\n",
    "for i in df_rest.index:\n",
    "    us_address = us.parse(df_rest['address'][i])\n",
    "    for w in us_address:\n",
    "        if w[1] == 'StreetName':\n",
    "            street = w[0]\n",
    "        if w[1] == 'StreetNamePostType':\n",
    "            street += ' ' + w[0]\n",
    "    df_rest['street'][i] = street\n",
    "df_rest.head()"
   ]
  },
  {
   "cell_type": "code",
   "execution_count": 58,
   "id": "1222dbd8-6c18-4934-bfcb-fb3bb2ca4942",
   "metadata": {},
   "outputs": [
    {
     "data": {
      "text/html": [
       "<div>\n",
       "<style scoped>\n",
       "    .dataframe tbody tr th:only-of-type {\n",
       "        vertical-align: middle;\n",
       "    }\n",
       "\n",
       "    .dataframe tbody tr th {\n",
       "        vertical-align: top;\n",
       "    }\n",
       "\n",
       "    .dataframe thead th {\n",
       "        text-align: right;\n",
       "    }\n",
       "</style>\n",
       "<table border=\"1\" class=\"dataframe\">\n",
       "  <thead>\n",
       "    <tr style=\"text-align: right;\">\n",
       "      <th></th>\n",
       "      <th>street</th>\n",
       "    </tr>\n",
       "  </thead>\n",
       "  <tbody>\n",
       "    <tr>\n",
       "      <th>14</th>\n",
       "      <td>wall st</td>\n",
       "    </tr>\n",
       "    <tr>\n",
       "      <th>374</th>\n",
       "      <td>king blvd</td>\n",
       "    </tr>\n",
       "    <tr>\n",
       "      <th>490</th>\n",
       "      <td>jr</td>\n",
       "    </tr>\n",
       "    <tr>\n",
       "      <th>252</th>\n",
       "      <td>cole ave</td>\n",
       "    </tr>\n",
       "    <tr>\n",
       "      <th>381</th>\n",
       "      <td>jefferson ave</td>\n",
       "    </tr>\n",
       "    <tr>\n",
       "      <th>53</th>\n",
       "      <td>505</td>\n",
       "    </tr>\n",
       "    <tr>\n",
       "      <th>275</th>\n",
       "      <td>barrington ct</td>\n",
       "    </tr>\n",
       "    <tr>\n",
       "      <th>25</th>\n",
       "      <td>flower st</td>\n",
       "    </tr>\n",
       "    <tr>\n",
       "      <th>257</th>\n",
       "      <td>central</td>\n",
       "    </tr>\n",
       "    <tr>\n",
       "      <th>71</th>\n",
       "      <td>vermont ave</td>\n",
       "    </tr>\n",
       "    <tr>\n",
       "      <th>88</th>\n",
       "      <td>spring st</td>\n",
       "    </tr>\n",
       "    <tr>\n",
       "      <th>49</th>\n",
       "      <td>lincoln blvd</td>\n",
       "    </tr>\n",
       "    <tr>\n",
       "      <th>38</th>\n",
       "      <td>pasadena ave</td>\n",
       "    </tr>\n",
       "    <tr>\n",
       "      <th>501</th>\n",
       "      <td>garey st</td>\n",
       "    </tr>\n",
       "    <tr>\n",
       "      <th>295</th>\n",
       "      <td>ford blvd</td>\n",
       "    </tr>\n",
       "    <tr>\n",
       "      <th>76</th>\n",
       "      <td>wabash ave</td>\n",
       "    </tr>\n",
       "    <tr>\n",
       "      <th>241</th>\n",
       "      <td>ling way</td>\n",
       "    </tr>\n",
       "    <tr>\n",
       "      <th>422</th>\n",
       "      <td>ivar ave</td>\n",
       "    </tr>\n",
       "    <tr>\n",
       "      <th>436</th>\n",
       "      <td>inglewood blvd</td>\n",
       "    </tr>\n",
       "    <tr>\n",
       "      <th>9</th>\n",
       "      <td>western ave</td>\n",
       "    </tr>\n",
       "  </tbody>\n",
       "</table>\n",
       "</div>"
      ],
      "text/plain": [
       "             street\n",
       "14          wall st\n",
       "374       king blvd\n",
       "490              jr\n",
       "252        cole ave\n",
       "381   jefferson ave\n",
       "53              505\n",
       "275   barrington ct\n",
       "25        flower st\n",
       "257         central\n",
       "71      vermont ave\n",
       "88        spring st\n",
       "49     lincoln blvd\n",
       "38     pasadena ave\n",
       "501        garey st\n",
       "295       ford blvd\n",
       "76       wabash ave\n",
       "241        ling way\n",
       "422        ivar ave\n",
       "436  inglewood blvd\n",
       "9       western ave"
      ]
     },
     "execution_count": 58,
     "metadata": {},
     "output_type": "execute_result"
    }
   ],
   "source": [
    "df_unique_streets = pd.DataFrame(df_rest['street'].unique(), columns=['street'])\n",
    "df_unique_streets.sample(20)"
   ]
  },
  {
   "cell_type": "markdown",
   "id": "aaf260b2-6e10-41e8-9bf3-65ce23872251",
   "metadata": {},
   "source": [
    "The 'usaddress' library has been helpful in parsing street names from addresses with minimal manipulation"
   ]
  },
  {
   "cell_type": "markdown",
   "id": "7951fd86-2e8e-4957-9e22-1dd2c0c6fd5d",
   "metadata": {
    "tags": []
   },
   "source": [
    "# The Most Popular Streets for Establishments in LA <a id=\"Pop_street\"></a>\n"
   ]
  },
  {
   "cell_type": "code",
   "execution_count": 59,
   "id": "2d6124f4-f94f-4ff6-8ecf-1fb0b40cb175",
   "metadata": {},
   "outputs": [
    {
     "data": {
      "text/html": [
       "<div>\n",
       "<style scoped>\n",
       "    .dataframe tbody tr th:only-of-type {\n",
       "        vertical-align: middle;\n",
       "    }\n",
       "\n",
       "    .dataframe tbody tr th {\n",
       "        vertical-align: top;\n",
       "    }\n",
       "\n",
       "    .dataframe thead th {\n",
       "        text-align: right;\n",
       "    }\n",
       "</style>\n",
       "<table border=\"1\" class=\"dataframe\">\n",
       "  <thead>\n",
       "    <tr style=\"text-align: right;\">\n",
       "      <th></th>\n",
       "      <th>street</th>\n",
       "      <th>n_establishments</th>\n",
       "    </tr>\n",
       "  </thead>\n",
       "  <tbody>\n",
       "    <tr>\n",
       "      <th>0</th>\n",
       "      <td>sunset blvd</td>\n",
       "      <td>405</td>\n",
       "    </tr>\n",
       "    <tr>\n",
       "      <th>1</th>\n",
       "      <td>wilshire blvd</td>\n",
       "      <td>397</td>\n",
       "    </tr>\n",
       "    <tr>\n",
       "      <th>2</th>\n",
       "      <td>pico blvd</td>\n",
       "      <td>372</td>\n",
       "    </tr>\n",
       "    <tr>\n",
       "      <th>3</th>\n",
       "      <td>western ave</td>\n",
       "      <td>367</td>\n",
       "    </tr>\n",
       "    <tr>\n",
       "      <th>4</th>\n",
       "      <td>figueroa st</td>\n",
       "      <td>332</td>\n",
       "    </tr>\n",
       "    <tr>\n",
       "      <th>5</th>\n",
       "      <td>olympic blvd</td>\n",
       "      <td>310</td>\n",
       "    </tr>\n",
       "    <tr>\n",
       "      <th>6</th>\n",
       "      <td>vermont ave</td>\n",
       "      <td>286</td>\n",
       "    </tr>\n",
       "    <tr>\n",
       "      <th>7</th>\n",
       "      <td>monica blvd</td>\n",
       "      <td>264</td>\n",
       "    </tr>\n",
       "    <tr>\n",
       "      <th>8</th>\n",
       "      <td>3rd st</td>\n",
       "      <td>261</td>\n",
       "    </tr>\n",
       "    <tr>\n",
       "      <th>9</th>\n",
       "      <td>hollywood blvd</td>\n",
       "      <td>254</td>\n",
       "    </tr>\n",
       "  </tbody>\n",
       "</table>\n",
       "</div>"
      ],
      "text/plain": [
       "           street  n_establishments\n",
       "0     sunset blvd               405\n",
       "1   wilshire blvd               397\n",
       "2       pico blvd               372\n",
       "3     western ave               367\n",
       "4     figueroa st               332\n",
       "5    olympic blvd               310\n",
       "6     vermont ave               286\n",
       "7     monica blvd               264\n",
       "8          3rd st               261\n",
       "9  hollywood blvd               254"
      ]
     },
     "execution_count": 59,
     "metadata": {},
     "output_type": "execute_result"
    }
   ],
   "source": [
    "street_rating = df_rest['street'].value_counts().reset_index()\n",
    "street_rating.columns = ['street','n_establishments']\n",
    "street_top10 = street_rating.head(10)\n",
    "street_top10"
   ]
  },
  {
   "cell_type": "code",
   "execution_count": 60,
   "id": "a0ae45f8-cdb2-4d3f-8f3a-7956320e7eae",
   "metadata": {},
   "outputs": [
    {
     "data": {
      "image/png": "[encoded data removed]",
      "text/plain": [
       "<Figure size 720x504 with 1 Axes>"
      ]
     },
     "metadata": {},
     "output_type": "display_data"
    }
   ],
   "source": [
    "sns.set(style='darkgrid')\n",
    "plt.figure(figsize=(10, 7))\n",
    "\n",
    "ax = sns.barplot(data = street_top10, x = 'street', y = 'n_establishments',  palette = 'muted')\n",
    "plt.title(\"Number of establishments per street\", fontsize=16, fontweight='bold')\n",
    "plt.ylabel(\"Number of establishments\")\n",
    "plt.xlabel(\"Streets\")\n",
    "plt.xticks(rotation = 45)\n",
    "for i in ax.containers:\n",
    "    ax.bar_label(i,)\n",
    "plt.show()"
   ]
  },
  {
   "cell_type": "markdown",
   "id": "50b22379-e450-41ac-926e-0f5f45344143",
   "metadata": {},
   "source": [
    "Sunset Boulevard and Wilshire Boulevard are almost equally popular among establishments in LA, with a small difference in between: 405 and 397, making Sunset Boulevard the most popular. The situation is the same for third and fourth place, with 372 establishments located on Pico Boulevard and 367 on Western Boulevard. Then the number of establishments gradually decreases from the 5th (332) to the 7th place (286) to around 260 for the 8th to 10th places."
   ]
  },
  {
   "cell_type": "markdown",
   "id": "4102b84e-9d39-4661-b818-59f14b73ed4d",
   "metadata": {},
   "source": [
    "Now adding chain category information"
   ]
  },
  {
   "cell_type": "code",
   "execution_count": 61,
   "id": "6acade22-5536-4dcd-ba99-e0d69775fa0d",
   "metadata": {},
   "outputs": [
    {
     "data": {
      "text/html": [
       "<div>\n",
       "<style scoped>\n",
       "    .dataframe tbody tr th:only-of-type {\n",
       "        vertical-align: middle;\n",
       "    }\n",
       "\n",
       "    .dataframe tbody tr th {\n",
       "        vertical-align: top;\n",
       "    }\n",
       "\n",
       "    .dataframe thead th {\n",
       "        text-align: right;\n",
       "    }\n",
       "</style>\n",
       "<table border=\"1\" class=\"dataframe\">\n",
       "  <thead>\n",
       "    <tr style=\"text-align: right;\">\n",
       "      <th></th>\n",
       "      <th>street</th>\n",
       "      <th>chain</th>\n",
       "      <th>independent</th>\n",
       "      <th>total</th>\n",
       "    </tr>\n",
       "  </thead>\n",
       "  <tbody>\n",
       "    <tr>\n",
       "      <th>442</th>\n",
       "      <td>sunset blvd</td>\n",
       "      <td>159</td>\n",
       "      <td>246</td>\n",
       "      <td>405</td>\n",
       "    </tr>\n",
       "    <tr>\n",
       "      <th>507</th>\n",
       "      <td>wilshire blvd</td>\n",
       "      <td>169</td>\n",
       "      <td>228</td>\n",
       "      <td>397</td>\n",
       "    </tr>\n",
       "    <tr>\n",
       "      <th>386</th>\n",
       "      <td>pico blvd</td>\n",
       "      <td>140</td>\n",
       "      <td>232</td>\n",
       "      <td>372</td>\n",
       "    </tr>\n",
       "    <tr>\n",
       "      <th>495</th>\n",
       "      <td>western ave</td>\n",
       "      <td>156</td>\n",
       "      <td>211</td>\n",
       "      <td>367</td>\n",
       "    </tr>\n",
       "    <tr>\n",
       "      <th>207</th>\n",
       "      <td>figueroa st</td>\n",
       "      <td>158</td>\n",
       "      <td>174</td>\n",
       "      <td>332</td>\n",
       "    </tr>\n",
       "    <tr>\n",
       "      <th>366</th>\n",
       "      <td>olympic blvd</td>\n",
       "      <td>129</td>\n",
       "      <td>181</td>\n",
       "      <td>310</td>\n",
       "    </tr>\n",
       "    <tr>\n",
       "      <th>465</th>\n",
       "      <td>vermont ave</td>\n",
       "      <td>125</td>\n",
       "      <td>161</td>\n",
       "      <td>286</td>\n",
       "    </tr>\n",
       "    <tr>\n",
       "      <th>343</th>\n",
       "      <td>monica blvd</td>\n",
       "      <td>107</td>\n",
       "      <td>157</td>\n",
       "      <td>264</td>\n",
       "    </tr>\n",
       "    <tr>\n",
       "      <th>24</th>\n",
       "      <td>3rd st</td>\n",
       "      <td>101</td>\n",
       "      <td>160</td>\n",
       "      <td>261</td>\n",
       "    </tr>\n",
       "    <tr>\n",
       "      <th>259</th>\n",
       "      <td>hollywood blvd</td>\n",
       "      <td>89</td>\n",
       "      <td>165</td>\n",
       "      <td>254</td>\n",
       "    </tr>\n",
       "  </tbody>\n",
       "</table>\n",
       "</div>"
      ],
      "text/plain": [
       "             street  chain  independent  total\n",
       "442     sunset blvd    159          246    405\n",
       "507   wilshire blvd    169          228    397\n",
       "386       pico blvd    140          232    372\n",
       "495     western ave    156          211    367\n",
       "207     figueroa st    158          174    332\n",
       "366    olympic blvd    129          181    310\n",
       "465     vermont ave    125          161    286\n",
       "343     monica blvd    107          157    264\n",
       "24           3rd st    101          160    261\n",
       "259  hollywood blvd     89          165    254"
      ]
     },
     "execution_count": 61,
     "metadata": {},
     "output_type": "execute_result"
    }
   ],
   "source": [
    "strcat_rating = df_rest.pivot_table(index='street',columns='chain_category',values='id',aggfunc='count').reset_index()\n",
    "strcat_rating.columns = ['street','chain','independent']\n",
    "strcat_rating['total'] = strcat_rating['chain'] + strcat_rating['independent']\n",
    "strcat_rating = strcat_rating.sort_values(by='total',ascending=False).head(10)\n",
    "strcat_rating"
   ]
  },
  {
   "cell_type": "code",
   "execution_count": 62,
   "id": "55fecd19-5a12-4d03-9d4d-5c235541a580",
   "metadata": {},
   "outputs": [
    {
     "data": {
      "text/html": [
       "<div>\n",
       "<style scoped>\n",
       "    .dataframe tbody tr th:only-of-type {\n",
       "        vertical-align: middle;\n",
       "    }\n",
       "\n",
       "    .dataframe tbody tr th {\n",
       "        vertical-align: top;\n",
       "    }\n",
       "\n",
       "    .dataframe thead th {\n",
       "        text-align: right;\n",
       "    }\n",
       "</style>\n",
       "<table border=\"1\" class=\"dataframe\">\n",
       "  <thead>\n",
       "    <tr style=\"text-align: right;\">\n",
       "      <th></th>\n",
       "      <th>street</th>\n",
       "      <th>status</th>\n",
       "      <th>value</th>\n",
       "    </tr>\n",
       "  </thead>\n",
       "  <tbody>\n",
       "    <tr>\n",
       "      <th>10</th>\n",
       "      <td>sunset blvd</td>\n",
       "      <td>independent</td>\n",
       "      <td>246</td>\n",
       "    </tr>\n",
       "    <tr>\n",
       "      <th>12</th>\n",
       "      <td>pico blvd</td>\n",
       "      <td>independent</td>\n",
       "      <td>232</td>\n",
       "    </tr>\n",
       "    <tr>\n",
       "      <th>11</th>\n",
       "      <td>wilshire blvd</td>\n",
       "      <td>independent</td>\n",
       "      <td>228</td>\n",
       "    </tr>\n",
       "    <tr>\n",
       "      <th>13</th>\n",
       "      <td>western ave</td>\n",
       "      <td>independent</td>\n",
       "      <td>211</td>\n",
       "    </tr>\n",
       "    <tr>\n",
       "      <th>15</th>\n",
       "      <td>olympic blvd</td>\n",
       "      <td>independent</td>\n",
       "      <td>181</td>\n",
       "    </tr>\n",
       "    <tr>\n",
       "      <th>14</th>\n",
       "      <td>figueroa st</td>\n",
       "      <td>independent</td>\n",
       "      <td>174</td>\n",
       "    </tr>\n",
       "    <tr>\n",
       "      <th>1</th>\n",
       "      <td>wilshire blvd</td>\n",
       "      <td>chain</td>\n",
       "      <td>169</td>\n",
       "    </tr>\n",
       "    <tr>\n",
       "      <th>19</th>\n",
       "      <td>hollywood blvd</td>\n",
       "      <td>independent</td>\n",
       "      <td>165</td>\n",
       "    </tr>\n",
       "    <tr>\n",
       "      <th>16</th>\n",
       "      <td>vermont ave</td>\n",
       "      <td>independent</td>\n",
       "      <td>161</td>\n",
       "    </tr>\n",
       "    <tr>\n",
       "      <th>18</th>\n",
       "      <td>3rd st</td>\n",
       "      <td>independent</td>\n",
       "      <td>160</td>\n",
       "    </tr>\n",
       "    <tr>\n",
       "      <th>0</th>\n",
       "      <td>sunset blvd</td>\n",
       "      <td>chain</td>\n",
       "      <td>159</td>\n",
       "    </tr>\n",
       "    <tr>\n",
       "      <th>4</th>\n",
       "      <td>figueroa st</td>\n",
       "      <td>chain</td>\n",
       "      <td>158</td>\n",
       "    </tr>\n",
       "    <tr>\n",
       "      <th>17</th>\n",
       "      <td>monica blvd</td>\n",
       "      <td>independent</td>\n",
       "      <td>157</td>\n",
       "    </tr>\n",
       "    <tr>\n",
       "      <th>3</th>\n",
       "      <td>western ave</td>\n",
       "      <td>chain</td>\n",
       "      <td>156</td>\n",
       "    </tr>\n",
       "    <tr>\n",
       "      <th>2</th>\n",
       "      <td>pico blvd</td>\n",
       "      <td>chain</td>\n",
       "      <td>140</td>\n",
       "    </tr>\n",
       "    <tr>\n",
       "      <th>5</th>\n",
       "      <td>olympic blvd</td>\n",
       "      <td>chain</td>\n",
       "      <td>129</td>\n",
       "    </tr>\n",
       "    <tr>\n",
       "      <th>6</th>\n",
       "      <td>vermont ave</td>\n",
       "      <td>chain</td>\n",
       "      <td>125</td>\n",
       "    </tr>\n",
       "    <tr>\n",
       "      <th>7</th>\n",
       "      <td>monica blvd</td>\n",
       "      <td>chain</td>\n",
       "      <td>107</td>\n",
       "    </tr>\n",
       "    <tr>\n",
       "      <th>8</th>\n",
       "      <td>3rd st</td>\n",
       "      <td>chain</td>\n",
       "      <td>101</td>\n",
       "    </tr>\n",
       "    <tr>\n",
       "      <th>9</th>\n",
       "      <td>hollywood blvd</td>\n",
       "      <td>chain</td>\n",
       "      <td>89</td>\n",
       "    </tr>\n",
       "  </tbody>\n",
       "</table>\n",
       "</div>"
      ],
      "text/plain": [
       "            street       status  value\n",
       "10     sunset blvd  independent    246\n",
       "12       pico blvd  independent    232\n",
       "11   wilshire blvd  independent    228\n",
       "13     western ave  independent    211\n",
       "15    olympic blvd  independent    181\n",
       "14     figueroa st  independent    174\n",
       "1    wilshire blvd        chain    169\n",
       "19  hollywood blvd  independent    165\n",
       "16     vermont ave  independent    161\n",
       "18          3rd st  independent    160\n",
       "0      sunset blvd        chain    159\n",
       "4      figueroa st        chain    158\n",
       "17     monica blvd  independent    157\n",
       "3      western ave        chain    156\n",
       "2        pico blvd        chain    140\n",
       "5     olympic blvd        chain    129\n",
       "6      vermont ave        chain    125\n",
       "7      monica blvd        chain    107\n",
       "8           3rd st        chain    101\n",
       "9   hollywood blvd        chain     89"
      ]
     },
     "execution_count": 62,
     "metadata": {},
     "output_type": "execute_result"
    }
   ],
   "source": [
    "strcat_rating_melt = strcat_rating.melt(id_vars='street', value_vars=['chain', 'independent'], var_name='status')\n",
    "strcat_rating_melt = strcat_rating_melt.sort_values(by = 'value',ascending=False)\n",
    "strcat_rating_melt"
   ]
  },
  {
   "cell_type": "code",
   "execution_count": 63,
   "id": "d08b296c-2dc6-420e-8a69-8089cc39d4f3",
   "metadata": {},
   "outputs": [
    {
     "data": {
      "image/png": "[encoded data removed]",
      "text/plain": [
       "<Figure size 720x504 with 1 Axes>"
      ]
     },
     "metadata": {},
     "output_type": "display_data"
    }
   ],
   "source": [
    "sns.set(style='darkgrid')\n",
    "plt.figure(figsize=(10, 7))\n",
    "\n",
    "ax = sns.barplot(data = strcat_rating_melt, x = 'street', y = 'value',hue = 'status',  palette = 'muted')\n",
    "plt.title(\"Number of establishments per street by category\", fontsize=16, fontweight='bold')\n",
    "plt.ylabel(\"Number of establishments\")\n",
    "plt.xlabel(\"Streets\")\n",
    "plt.xticks(rotation = 45)\n",
    "for i in ax.containers:\n",
    "    ax.bar_label(i,)\n",
    "plt.show()"
   ]
  },
  {
   "cell_type": "markdown",
   "id": "a90fac6f-0aa6-427f-bfd9-8862fdffa4f4",
   "metadata": {},
   "source": [
    "For independent establishments, the top street distribution is almost the same as for the overall data, except that Pico Boulevard is now ranked second and Wilshire Boulevard is ranked third. However, the situation is slightly changed for chains, with Wilshire Boulevard being the most popular, followed by Sunset Boulevard in second place, and Figueroa Street in third.\n",
    "\n",
    "Again, since we dont have neither the financial data (number of guests, revenue, profit, rent and other costs etc) neither the details on the models we cannot conclude anything out of the information above. We are just collecting the facts. Maybe it is not good idea to open new restaurant on Sunset blvd since the competition is great and thus probably its venue has less margin. We don't know. \n",
    "\n",
    "Furthermore, the streets are long and having the restaurant on the Sunset boulevard but on the outskirt of the city and having it in the city center on the same street is not the same. To better understand the distribution of establishments across the city, it would be helpful to plot them on a city map based on their coordinates."
   ]
  },
  {
   "cell_type": "markdown",
   "id": "59016dee-a78f-40a7-94f8-964cbf9f67e3",
   "metadata": {
    "tags": []
   },
   "source": [
    "# LA streets with only 1 establishment, observing the establishments <a id=\"Unpop_street\"></a>\n",
    "\n"
   ]
  },
  {
   "cell_type": "code",
   "execution_count": 64,
   "id": "dda56e64-d7bb-4eec-b8c9-36e6142b5767",
   "metadata": {},
   "outputs": [
    {
     "data": {
      "text/html": [
       "<div>\n",
       "<style scoped>\n",
       "    .dataframe tbody tr th:only-of-type {\n",
       "        vertical-align: middle;\n",
       "    }\n",
       "\n",
       "    .dataframe tbody tr th {\n",
       "        vertical-align: top;\n",
       "    }\n",
       "\n",
       "    .dataframe thead th {\n",
       "        text-align: right;\n",
       "    }\n",
       "</style>\n",
       "<table border=\"1\" class=\"dataframe\">\n",
       "  <thead>\n",
       "    <tr style=\"text-align: right;\">\n",
       "      <th></th>\n",
       "      <th>street</th>\n",
       "      <th>n_establishments</th>\n",
       "    </tr>\n",
       "  </thead>\n",
       "  <tbody>\n",
       "    <tr>\n",
       "      <th>292</th>\n",
       "      <td>nebraska ave</td>\n",
       "      <td>1</td>\n",
       "    </tr>\n",
       "    <tr>\n",
       "      <th>293</th>\n",
       "      <td>post ave</td>\n",
       "      <td>1</td>\n",
       "    </tr>\n",
       "    <tr>\n",
       "      <th>294</th>\n",
       "      <td>newell ave</td>\n",
       "      <td>1</td>\n",
       "    </tr>\n",
       "    <tr>\n",
       "      <th>295</th>\n",
       "      <td>42nd st</td>\n",
       "      <td>1</td>\n",
       "    </tr>\n",
       "    <tr>\n",
       "      <th>296</th>\n",
       "      <td>9th ave</td>\n",
       "      <td>1</td>\n",
       "    </tr>\n",
       "  </tbody>\n",
       "</table>\n",
       "</div>"
      ],
      "text/plain": [
       "           street  n_establishments\n",
       "292  nebraska ave                 1\n",
       "293      post ave                 1\n",
       "294    newell ave                 1\n",
       "295       42nd st                 1\n",
       "296       9th ave                 1"
      ]
     },
     "execution_count": 64,
     "metadata": {},
     "output_type": "execute_result"
    }
   ],
   "source": [
    "unpopular_street=street_rating.query('n_establishments==1')\n",
    "unpopular_street.head()"
   ]
  },
  {
   "cell_type": "code",
   "execution_count": 65,
   "id": "953efed7-e8f6-43cb-a052-74daf248d697",
   "metadata": {},
   "outputs": [
    {
     "data": {
      "text/plain": [
       "229"
      ]
     },
     "execution_count": 65,
     "metadata": {},
     "output_type": "execute_result"
    }
   ],
   "source": [
    "len(unpopular_street)"
   ]
  },
  {
   "cell_type": "markdown",
   "id": "7eca862e-9b86-4f67-ad99-a22d8d9c8f83",
   "metadata": {},
   "source": [
    "There are 229 streets with only one establishment. Let's have a closer look at them."
   ]
  },
  {
   "cell_type": "code",
   "execution_count": 66,
   "id": "435ef652-839c-4634-9652-99bcd663d262",
   "metadata": {},
   "outputs": [
    {
     "data": {
      "text/html": [
       "<div>\n",
       "<style scoped>\n",
       "    .dataframe tbody tr th:only-of-type {\n",
       "        vertical-align: middle;\n",
       "    }\n",
       "\n",
       "    .dataframe tbody tr th {\n",
       "        vertical-align: top;\n",
       "    }\n",
       "\n",
       "    .dataframe thead th {\n",
       "        text-align: right;\n",
       "    }\n",
       "</style>\n",
       "<table border=\"1\" class=\"dataframe\">\n",
       "  <thead>\n",
       "    <tr style=\"text-align: right;\">\n",
       "      <th></th>\n",
       "      <th>id</th>\n",
       "      <th>object_name</th>\n",
       "      <th>address</th>\n",
       "      <th>chain</th>\n",
       "      <th>object_type</th>\n",
       "      <th>seats</th>\n",
       "      <th>chain_category</th>\n",
       "      <th>street</th>\n",
       "    </tr>\n",
       "  </thead>\n",
       "  <tbody>\n",
       "    <tr>\n",
       "      <th>59</th>\n",
       "      <td>11845</td>\n",
       "      <td>wax paper</td>\n",
       "      <td>2902 knox ave</td>\n",
       "      <td>False</td>\n",
       "      <td>restaurant</td>\n",
       "      <td>2</td>\n",
       "      <td>independent</td>\n",
       "      <td>knox ave</td>\n",
       "    </tr>\n",
       "    <tr>\n",
       "      <th>63</th>\n",
       "      <td>11849</td>\n",
       "      <td>j  f ice cream shop</td>\n",
       "      <td>1703 mariachi plz</td>\n",
       "      <td>False</td>\n",
       "      <td>restaurant</td>\n",
       "      <td>17</td>\n",
       "      <td>independent</td>\n",
       "      <td>mariachi plz</td>\n",
       "    </tr>\n",
       "    <tr>\n",
       "      <th>66</th>\n",
       "      <td>11852</td>\n",
       "      <td>eagle rock brewery</td>\n",
       "      <td>3056 roswell st</td>\n",
       "      <td>True</td>\n",
       "      <td>restaurant</td>\n",
       "      <td>16</td>\n",
       "      <td>chain</td>\n",
       "      <td>roswell st</td>\n",
       "    </tr>\n",
       "    <tr>\n",
       "      <th>138</th>\n",
       "      <td>11924</td>\n",
       "      <td>carls jr</td>\n",
       "      <td>308 westwood plz 505</td>\n",
       "      <td>True</td>\n",
       "      <td>restaurant</td>\n",
       "      <td>37</td>\n",
       "      <td>chain</td>\n",
       "      <td>505</td>\n",
       "    </tr>\n",
       "    <tr>\n",
       "      <th>142</th>\n",
       "      <td>11928</td>\n",
       "      <td>microsoft theater</td>\n",
       "      <td>777 w chick hearn ct</td>\n",
       "      <td>False</td>\n",
       "      <td>restaurant</td>\n",
       "      <td>21</td>\n",
       "      <td>independent</td>\n",
       "      <td>hearn ct</td>\n",
       "    </tr>\n",
       "    <tr>\n",
       "      <th>...</th>\n",
       "      <td>...</td>\n",
       "      <td>...</td>\n",
       "      <td>...</td>\n",
       "      <td>...</td>\n",
       "      <td>...</td>\n",
       "      <td>...</td>\n",
       "      <td>...</td>\n",
       "      <td>...</td>\n",
       "    </tr>\n",
       "    <tr>\n",
       "      <th>9571</th>\n",
       "      <td>21357</td>\n",
       "      <td>broadwater plunge</td>\n",
       "      <td>1078 lillian way</td>\n",
       "      <td>False</td>\n",
       "      <td>restaurant</td>\n",
       "      <td>35</td>\n",
       "      <td>independent</td>\n",
       "      <td>lillian way</td>\n",
       "    </tr>\n",
       "    <tr>\n",
       "      <th>9572</th>\n",
       "      <td>21358</td>\n",
       "      <td>le macaron</td>\n",
       "      <td>541 s spring # 127</td>\n",
       "      <td>True</td>\n",
       "      <td>restaurant</td>\n",
       "      <td>17</td>\n",
       "      <td>chain</td>\n",
       "      <td>spring</td>\n",
       "    </tr>\n",
       "    <tr>\n",
       "      <th>9614</th>\n",
       "      <td>21400</td>\n",
       "      <td>meatology mediterranean grill</td>\n",
       "      <td>4143 lankershim blvd</td>\n",
       "      <td>False</td>\n",
       "      <td>restaurant</td>\n",
       "      <td>28</td>\n",
       "      <td>independent</td>\n",
       "      <td>lankershim blvd</td>\n",
       "    </tr>\n",
       "    <tr>\n",
       "      <th>9627</th>\n",
       "      <td>21413</td>\n",
       "      <td>pizza buona</td>\n",
       "      <td>922 n alavarado st ste c</td>\n",
       "      <td>True</td>\n",
       "      <td>pizza</td>\n",
       "      <td>5</td>\n",
       "      <td>chain</td>\n",
       "      <td>alavarado st</td>\n",
       "    </tr>\n",
       "    <tr>\n",
       "      <th>9646</th>\n",
       "      <td>21432</td>\n",
       "      <td>hall of justice</td>\n",
       "      <td>217 w temple ave</td>\n",
       "      <td>False</td>\n",
       "      <td>restaurant</td>\n",
       "      <td>122</td>\n",
       "      <td>independent</td>\n",
       "      <td>temple ave</td>\n",
       "    </tr>\n",
       "  </tbody>\n",
       "</table>\n",
       "<p>229 rows × 8 columns</p>\n",
       "</div>"
      ],
      "text/plain": [
       "         id                    object_name                   address  chain  \\\n",
       "59    11845                      wax paper             2902 knox ave  False   \n",
       "63    11849            j  f ice cream shop         1703 mariachi plz  False   \n",
       "66    11852             eagle rock brewery           3056 roswell st   True   \n",
       "138   11924                       carls jr      308 westwood plz 505   True   \n",
       "142   11928              microsoft theater      777 w chick hearn ct  False   \n",
       "...     ...                            ...                       ...    ...   \n",
       "9571  21357              broadwater plunge          1078 lillian way  False   \n",
       "9572  21358                     le macaron        541 s spring # 127   True   \n",
       "9614  21400  meatology mediterranean grill      4143 lankershim blvd  False   \n",
       "9627  21413                    pizza buona  922 n alavarado st ste c   True   \n",
       "9646  21432                hall of justice          217 w temple ave  False   \n",
       "\n",
       "     object_type  seats chain_category           street  \n",
       "59    restaurant      2    independent         knox ave  \n",
       "63    restaurant     17    independent     mariachi plz  \n",
       "66    restaurant     16          chain       roswell st  \n",
       "138   restaurant     37          chain              505  \n",
       "142   restaurant     21    independent         hearn ct  \n",
       "...          ...    ...            ...              ...  \n",
       "9571  restaurant     35    independent      lillian way  \n",
       "9572  restaurant     17          chain           spring  \n",
       "9614  restaurant     28    independent  lankershim blvd  \n",
       "9627       pizza      5          chain     alavarado st  \n",
       "9646  restaurant    122    independent       temple ave  \n",
       "\n",
       "[229 rows x 8 columns]"
      ]
     },
     "execution_count": 66,
     "metadata": {},
     "output_type": "execute_result"
    }
   ],
   "source": [
    "unpopular_street_details = df_rest.query('street in @unpopular_street.street')\n",
    "unpopular_street_details"
   ]
  },
  {
   "cell_type": "code",
   "execution_count": 67,
   "id": "59353f40-687e-4577-97be-3740a52716fa",
   "metadata": {},
   "outputs": [
    {
     "data": {
      "text/html": [
       "<div>\n",
       "<style scoped>\n",
       "    .dataframe tbody tr th:only-of-type {\n",
       "        vertical-align: middle;\n",
       "    }\n",
       "\n",
       "    .dataframe tbody tr th {\n",
       "        vertical-align: top;\n",
       "    }\n",
       "\n",
       "    .dataframe thead th {\n",
       "        text-align: right;\n",
       "    }\n",
       "</style>\n",
       "<table border=\"1\" class=\"dataframe\">\n",
       "  <thead>\n",
       "    <tr style=\"text-align: right;\">\n",
       "      <th></th>\n",
       "      <th>object_type</th>\n",
       "      <th>share_types</th>\n",
       "    </tr>\n",
       "  </thead>\n",
       "  <tbody>\n",
       "    <tr>\n",
       "      <th>0</th>\n",
       "      <td>restaurant</td>\n",
       "      <td>86.0</td>\n",
       "    </tr>\n",
       "    <tr>\n",
       "      <th>1</th>\n",
       "      <td>fast food</td>\n",
       "      <td>5.2</td>\n",
       "    </tr>\n",
       "    <tr>\n",
       "      <th>2</th>\n",
       "      <td>bakery</td>\n",
       "      <td>2.6</td>\n",
       "    </tr>\n",
       "    <tr>\n",
       "      <th>3</th>\n",
       "      <td>cafe</td>\n",
       "      <td>2.6</td>\n",
       "    </tr>\n",
       "    <tr>\n",
       "      <th>4</th>\n",
       "      <td>bar</td>\n",
       "      <td>2.2</td>\n",
       "    </tr>\n",
       "    <tr>\n",
       "      <th>5</th>\n",
       "      <td>pizza</td>\n",
       "      <td>1.3</td>\n",
       "    </tr>\n",
       "  </tbody>\n",
       "</table>\n",
       "</div>"
      ],
      "text/plain": [
       "  object_type  share_types\n",
       "0  restaurant         86.0\n",
       "1   fast food          5.2\n",
       "2      bakery          2.6\n",
       "3        cafe          2.6\n",
       "4         bar          2.2\n",
       "5       pizza          1.3"
      ]
     },
     "execution_count": 67,
     "metadata": {},
     "output_type": "execute_result"
    }
   ],
   "source": [
    "unpopular_types_prop = unpopular_street_details['object_type'].value_counts(normalize=True).reset_index()\n",
    "unpopular_types_prop.columns = ['object_type','share_types']\n",
    "unpopular_types_prop['share_types'] = (unpopular_types_prop['share_types']*100).round(1)\n",
    "unpopular_types_prop"
   ]
  },
  {
   "cell_type": "markdown",
   "id": "e8ca547d-92a1-46ba-ac66-b53fe51e7667",
   "metadata": {},
   "source": [
    "Comparing to the overall data on unpopular streets we have bigger share of restaurants (86% vs 75%)"
   ]
  },
  {
   "cell_type": "code",
   "execution_count": 68,
   "id": "ba0bb5f9-2d0a-4500-a2ef-e4173c987cc5",
   "metadata": {},
   "outputs": [
    {
     "data": {
      "text/html": [
       "<div>\n",
       "<style scoped>\n",
       "    .dataframe tbody tr th:only-of-type {\n",
       "        vertical-align: middle;\n",
       "    }\n",
       "\n",
       "    .dataframe tbody tr th {\n",
       "        vertical-align: top;\n",
       "    }\n",
       "\n",
       "    .dataframe thead th {\n",
       "        text-align: right;\n",
       "    }\n",
       "</style>\n",
       "<table border=\"1\" class=\"dataframe\">\n",
       "  <thead>\n",
       "    <tr style=\"text-align: right;\">\n",
       "      <th></th>\n",
       "      <th>chain_category</th>\n",
       "      <th>share</th>\n",
       "    </tr>\n",
       "  </thead>\n",
       "  <tbody>\n",
       "    <tr>\n",
       "      <th>0</th>\n",
       "      <td>independent</td>\n",
       "      <td>63.8</td>\n",
       "    </tr>\n",
       "    <tr>\n",
       "      <th>1</th>\n",
       "      <td>chain</td>\n",
       "      <td>36.2</td>\n",
       "    </tr>\n",
       "  </tbody>\n",
       "</table>\n",
       "</div>"
      ],
      "text/plain": [
       "  chain_category  share\n",
       "0    independent   63.8\n",
       "1          chain   36.2"
      ]
     },
     "execution_count": 68,
     "metadata": {},
     "output_type": "execute_result"
    }
   ],
   "source": [
    "unpopular_chain_prop = unpopular_street_details['chain_category'].value_counts(normalize=True).reset_index()\n",
    "unpopular_chain_prop.columns = ['chain_category','share']\n",
    "unpopular_chain_prop['share'] = (unpopular_chain_prop['share']*100).round(1)\n",
    "unpopular_chain_prop"
   ]
  },
  {
   "cell_type": "markdown",
   "id": "0f31cb44-3a85-422b-a087-dd299d53e9fd",
   "metadata": {},
   "source": [
    "And independent venues: 64% vs 58%"
   ]
  },
  {
   "cell_type": "code",
   "execution_count": 69,
   "id": "f5772a84-3397-414d-9342-1ee8c4e9b2e6",
   "metadata": {},
   "outputs": [
    {
     "data": {
      "image/png": "[encoded data removed]",
      "text/plain": [
       "<Figure size 720x504 with 1 Axes>"
      ]
     },
     "metadata": {},
     "output_type": "display_data"
    }
   ],
   "source": [
    "plt.figure(figsize=(10, 7))\n",
    "sns.histplot(data=unpopular_street_details, x=\"seats\", kde=True, bins = 50, hue ='chain_category', palette = 'muted')\n",
    "plt.title('Seats distribution across different establishments categories on unpopular streets', fontsize=16, fontweight='bold')\n",
    "plt.xlabel('Seats')\n",
    "plt.ylabel('Density')\n",
    "plt.show()"
   ]
  },
  {
   "cell_type": "code",
   "execution_count": 70,
   "id": "597575f3-2e62-418c-8921-b7f4e85e6ff0",
   "metadata": {},
   "outputs": [
    {
     "data": {
      "image/png": "[encoded data removed]",
      "text/plain": [
       "<Figure size 504x504 with 1 Axes>"
      ]
     },
     "metadata": {},
     "output_type": "display_data"
    }
   ],
   "source": [
    "plt.figure(figsize=(7, 7))\n",
    "sns.violinplot(y=\"seats\", x = \"chain_category\", data=unpopular_street_details, palette='muted')\n",
    "plt.title('Seats distribution by categories (violinplot)', fontsize=16, fontweight='bold')\n",
    "plt.xlabel('Establishment categories')\n",
    "plt.ylabel('Seats')\n",
    "plt.yticks(range(0, 250, 20))\n",
    "plt.show()"
   ]
  },
  {
   "cell_type": "code",
   "execution_count": 71,
   "id": "b62c460a-4206-4937-9b4e-10d2d1806319",
   "metadata": {},
   "outputs": [
    {
     "name": "stdout",
     "output_type": "stream",
     "text": [
      "Total number of seats in establishments with a capacity of more than 50: 9636, share: 74.0\n",
      "Total number of seats in establishments with a capacity of more than 90: 8333, share: 64.0\n"
     ]
    }
   ],
   "source": [
    "many_seats_unpop = unpopular_street_details.query('seats>50')['seats'].sum()\n",
    "many_seats_unpop_share = ((many_seats_unpop/unpopular_street_details['seats'].sum())*100).round(1)\n",
    "\n",
    "many_seats_unpop90 = unpopular_street_details.query('seats>90')['seats'].sum()\n",
    "many_seats_unpop90_share = ((many_seats_unpop90/unpopular_street_details['seats'].sum())*100).round(1)\n",
    "\n",
    "\n",
    "print(f'Total number of seats in establishments with a capacity of more than 50: {many_seats_unpop}, share: {many_seats_unpop_share}')\n",
    "print(f'Total number of seats in establishments with a capacity of more than 90: {many_seats_unpop90}, share: {many_seats_unpop90_share}')\n"
   ]
  },
  {
   "cell_type": "markdown",
   "id": "0a8ef1de-ed1a-45d7-a38f-c64202514c68",
   "metadata": {},
   "source": [
    "Like overall data, restaurants on unpopular streets tend to have around 20 seats, but the share of huge restaurants (more than 90 seats) is significantly higher. In the overall city data we had around 50%-60% of those restaurants who have more than 50 seats but on unpopular streets it is 74% and for those who have more than 90 seats - 64%. It is fair, usually on the less popular areas it is easier to attract more people, and it is likely to be those establishments located on unpopular streets far from the city center and due to its capacity, it may serve as the venue for special events such as weddings, parties, and ceremonies."
   ]
  },
  {
   "cell_type": "markdown",
   "id": "00e2a696-84a0-4bd0-9a9d-193130d9cb6b",
   "metadata": {},
   "source": [
    "# LA streets with many establishments, observing the establishments <a id=\"Pop_street_details\"></a>"
   ]
  },
  {
   "cell_type": "markdown",
   "id": "340fd4d5-ec72-481f-9039-9fc22eb84b94",
   "metadata": {},
   "source": [
    "I suggest that we use the top 10 most popular streets we discovered earlier as a benchmark for 'many'."
   ]
  },
  {
   "cell_type": "code",
   "execution_count": 72,
   "id": "473181f1-9c97-435e-9c06-0e8201a18618",
   "metadata": {},
   "outputs": [
    {
     "data": {
      "text/html": [
       "<div>\n",
       "<style scoped>\n",
       "    .dataframe tbody tr th:only-of-type {\n",
       "        vertical-align: middle;\n",
       "    }\n",
       "\n",
       "    .dataframe tbody tr th {\n",
       "        vertical-align: top;\n",
       "    }\n",
       "\n",
       "    .dataframe thead th {\n",
       "        text-align: right;\n",
       "    }\n",
       "</style>\n",
       "<table border=\"1\" class=\"dataframe\">\n",
       "  <thead>\n",
       "    <tr style=\"text-align: right;\">\n",
       "      <th></th>\n",
       "      <th>street</th>\n",
       "      <th>n_establishments</th>\n",
       "    </tr>\n",
       "  </thead>\n",
       "  <tbody>\n",
       "    <tr>\n",
       "      <th>0</th>\n",
       "      <td>sunset blvd</td>\n",
       "      <td>405</td>\n",
       "    </tr>\n",
       "    <tr>\n",
       "      <th>1</th>\n",
       "      <td>wilshire blvd</td>\n",
       "      <td>397</td>\n",
       "    </tr>\n",
       "    <tr>\n",
       "      <th>2</th>\n",
       "      <td>pico blvd</td>\n",
       "      <td>372</td>\n",
       "    </tr>\n",
       "    <tr>\n",
       "      <th>3</th>\n",
       "      <td>western ave</td>\n",
       "      <td>367</td>\n",
       "    </tr>\n",
       "    <tr>\n",
       "      <th>4</th>\n",
       "      <td>figueroa st</td>\n",
       "      <td>332</td>\n",
       "    </tr>\n",
       "    <tr>\n",
       "      <th>5</th>\n",
       "      <td>olympic blvd</td>\n",
       "      <td>310</td>\n",
       "    </tr>\n",
       "    <tr>\n",
       "      <th>6</th>\n",
       "      <td>vermont ave</td>\n",
       "      <td>286</td>\n",
       "    </tr>\n",
       "    <tr>\n",
       "      <th>7</th>\n",
       "      <td>monica blvd</td>\n",
       "      <td>264</td>\n",
       "    </tr>\n",
       "    <tr>\n",
       "      <th>8</th>\n",
       "      <td>3rd st</td>\n",
       "      <td>261</td>\n",
       "    </tr>\n",
       "    <tr>\n",
       "      <th>9</th>\n",
       "      <td>hollywood blvd</td>\n",
       "      <td>254</td>\n",
       "    </tr>\n",
       "  </tbody>\n",
       "</table>\n",
       "</div>"
      ],
      "text/plain": [
       "           street  n_establishments\n",
       "0     sunset blvd               405\n",
       "1   wilshire blvd               397\n",
       "2       pico blvd               372\n",
       "3     western ave               367\n",
       "4     figueroa st               332\n",
       "5    olympic blvd               310\n",
       "6     vermont ave               286\n",
       "7     monica blvd               264\n",
       "8          3rd st               261\n",
       "9  hollywood blvd               254"
      ]
     },
     "execution_count": 72,
     "metadata": {},
     "output_type": "execute_result"
    }
   ],
   "source": [
    "street_top10"
   ]
  },
  {
   "cell_type": "code",
   "execution_count": 73,
   "id": "d56adf12-f684-4b01-8c04-36b36e6eb2a3",
   "metadata": {},
   "outputs": [
    {
     "data": {
      "text/plain": [
       "array([ 44. ,  90. , 218.2, 305.2])"
      ]
     },
     "execution_count": 73,
     "metadata": {},
     "output_type": "execute_result"
    }
   ],
   "source": [
    "np.quantile(street_rating['n_establishments'], [0.90, 0.95, 0.98, 0.99])\n"
   ]
  },
  {
   "cell_type": "markdown",
   "id": "19c6a500-2a62-4891-8c21-35c1ca7d5ffc",
   "metadata": {},
   "source": [
    "The number of restaurants on the 10 most popular streets is so high that every of them falls within the 99th percentile level"
   ]
  },
  {
   "cell_type": "code",
   "execution_count": 74,
   "id": "cbadb87f-d6fd-4fac-99de-75ecbd0dfe73",
   "metadata": {},
   "outputs": [
    {
     "data": {
      "text/html": [
       "<div>\n",
       "<style scoped>\n",
       "    .dataframe tbody tr th:only-of-type {\n",
       "        vertical-align: middle;\n",
       "    }\n",
       "\n",
       "    .dataframe tbody tr th {\n",
       "        vertical-align: top;\n",
       "    }\n",
       "\n",
       "    .dataframe thead th {\n",
       "        text-align: right;\n",
       "    }\n",
       "</style>\n",
       "<table border=\"1\" class=\"dataframe\">\n",
       "  <thead>\n",
       "    <tr style=\"text-align: right;\">\n",
       "      <th></th>\n",
       "      <th>id</th>\n",
       "      <th>object_name</th>\n",
       "      <th>address</th>\n",
       "      <th>chain</th>\n",
       "      <th>object_type</th>\n",
       "      <th>seats</th>\n",
       "      <th>chain_category</th>\n",
       "      <th>street</th>\n",
       "    </tr>\n",
       "  </thead>\n",
       "  <tbody>\n",
       "    <tr>\n",
       "      <th>2</th>\n",
       "      <td>11788</td>\n",
       "      <td>street churros</td>\n",
       "      <td>6801 hollywood blvd # 253</td>\n",
       "      <td>False</td>\n",
       "      <td>fast food</td>\n",
       "      <td>20</td>\n",
       "      <td>independent</td>\n",
       "      <td>hollywood blvd</td>\n",
       "    </tr>\n",
       "    <tr>\n",
       "      <th>3</th>\n",
       "      <td>11789</td>\n",
       "      <td>triniti echo park</td>\n",
       "      <td>1814 w sunset blvd</td>\n",
       "      <td>False</td>\n",
       "      <td>restaurant</td>\n",
       "      <td>22</td>\n",
       "      <td>independent</td>\n",
       "      <td>sunset blvd</td>\n",
       "    </tr>\n",
       "    <tr>\n",
       "      <th>10</th>\n",
       "      <td>11796</td>\n",
       "      <td>el pollo loco</td>\n",
       "      <td>5319 w sunset blvd</td>\n",
       "      <td>True</td>\n",
       "      <td>restaurant</td>\n",
       "      <td>38</td>\n",
       "      <td>chain</td>\n",
       "      <td>sunset blvd</td>\n",
       "    </tr>\n",
       "    <tr>\n",
       "      <th>11</th>\n",
       "      <td>11797</td>\n",
       "      <td>poong nyun bakery</td>\n",
       "      <td>928 s western ave ste 109</td>\n",
       "      <td>True</td>\n",
       "      <td>bakery</td>\n",
       "      <td>17</td>\n",
       "      <td>chain</td>\n",
       "      <td>western ave</td>\n",
       "    </tr>\n",
       "    <tr>\n",
       "      <th>14</th>\n",
       "      <td>11800</td>\n",
       "      <td>cuscatleca bakery</td>\n",
       "      <td>2501 w sunset blvd #a</td>\n",
       "      <td>True</td>\n",
       "      <td>bakery</td>\n",
       "      <td>26</td>\n",
       "      <td>chain</td>\n",
       "      <td>sunset blvd</td>\n",
       "    </tr>\n",
       "  </tbody>\n",
       "</table>\n",
       "</div>"
      ],
      "text/plain": [
       "       id        object_name                    address  chain object_type  \\\n",
       "2   11788     street churros  6801 hollywood blvd # 253  False   fast food   \n",
       "3   11789  triniti echo park         1814 w sunset blvd  False  restaurant   \n",
       "10  11796      el pollo loco         5319 w sunset blvd   True  restaurant   \n",
       "11  11797  poong nyun bakery  928 s western ave ste 109   True      bakery   \n",
       "14  11800  cuscatleca bakery      2501 w sunset blvd #a   True      bakery   \n",
       "\n",
       "    seats chain_category          street  \n",
       "2      20    independent  hollywood blvd  \n",
       "3      22    independent     sunset blvd  \n",
       "10     38          chain     sunset blvd  \n",
       "11     17          chain     western ave  \n",
       "14     26          chain     sunset blvd  "
      ]
     },
     "execution_count": 74,
     "metadata": {},
     "output_type": "execute_result"
    }
   ],
   "source": [
    "popular_street_details = df_rest.query('street in @street_top10.street')\n",
    "popular_street_details.head()"
   ]
  },
  {
   "cell_type": "code",
   "execution_count": 75,
   "id": "9ca2dc71-a7cd-499b-b109-fb9716bc4484",
   "metadata": {},
   "outputs": [
    {
     "data": {
      "text/html": [
       "<div>\n",
       "<style scoped>\n",
       "    .dataframe tbody tr th:only-of-type {\n",
       "        vertical-align: middle;\n",
       "    }\n",
       "\n",
       "    .dataframe tbody tr th {\n",
       "        vertical-align: top;\n",
       "    }\n",
       "\n",
       "    .dataframe thead th {\n",
       "        text-align: right;\n",
       "    }\n",
       "</style>\n",
       "<table border=\"1\" class=\"dataframe\">\n",
       "  <thead>\n",
       "    <tr style=\"text-align: right;\">\n",
       "      <th></th>\n",
       "      <th>object_type</th>\n",
       "      <th>share_types</th>\n",
       "    </tr>\n",
       "  </thead>\n",
       "  <tbody>\n",
       "    <tr>\n",
       "      <th>0</th>\n",
       "      <td>restaurant</td>\n",
       "      <td>77.2</td>\n",
       "    </tr>\n",
       "    <tr>\n",
       "      <th>1</th>\n",
       "      <td>fast food</td>\n",
       "      <td>9.2</td>\n",
       "    </tr>\n",
       "    <tr>\n",
       "      <th>2</th>\n",
       "      <td>cafe</td>\n",
       "      <td>4.5</td>\n",
       "    </tr>\n",
       "    <tr>\n",
       "      <th>3</th>\n",
       "      <td>pizza</td>\n",
       "      <td>3.6</td>\n",
       "    </tr>\n",
       "    <tr>\n",
       "      <th>4</th>\n",
       "      <td>bakery</td>\n",
       "      <td>3.0</td>\n",
       "    </tr>\n",
       "    <tr>\n",
       "      <th>5</th>\n",
       "      <td>bar</td>\n",
       "      <td>2.5</td>\n",
       "    </tr>\n",
       "  </tbody>\n",
       "</table>\n",
       "</div>"
      ],
      "text/plain": [
       "  object_type  share_types\n",
       "0  restaurant         77.2\n",
       "1   fast food          9.2\n",
       "2        cafe          4.5\n",
       "3       pizza          3.6\n",
       "4      bakery          3.0\n",
       "5         bar          2.5"
      ]
     },
     "execution_count": 75,
     "metadata": {},
     "output_type": "execute_result"
    }
   ],
   "source": [
    "popular_types_prop = popular_street_details['object_type'].value_counts(normalize=True).reset_index()\n",
    "popular_types_prop.columns = ['object_type','share_types']\n",
    "popular_types_prop['share_types'] = (popular_types_prop['share_types']*100).round(1)\n",
    "popular_types_prop"
   ]
  },
  {
   "cell_type": "markdown",
   "id": "a4e49341-9b7c-4489-8f21-664a457a00d5",
   "metadata": {},
   "source": [
    "We have almost the same distribution of establishment types here as in the overall data, but every type has slightly lost its share to more popular types. Restaurants have gained 2%"
   ]
  },
  {
   "cell_type": "code",
   "execution_count": 76,
   "id": "4a956a24-b066-41f9-9567-f12d24eff83f",
   "metadata": {},
   "outputs": [
    {
     "data": {
      "text/html": [
       "<div>\n",
       "<style scoped>\n",
       "    .dataframe tbody tr th:only-of-type {\n",
       "        vertical-align: middle;\n",
       "    }\n",
       "\n",
       "    .dataframe tbody tr th {\n",
       "        vertical-align: top;\n",
       "    }\n",
       "\n",
       "    .dataframe thead th {\n",
       "        text-align: right;\n",
       "    }\n",
       "</style>\n",
       "<table border=\"1\" class=\"dataframe\">\n",
       "  <thead>\n",
       "    <tr style=\"text-align: right;\">\n",
       "      <th></th>\n",
       "      <th>chain_category</th>\n",
       "      <th>share</th>\n",
       "    </tr>\n",
       "  </thead>\n",
       "  <tbody>\n",
       "    <tr>\n",
       "      <th>0</th>\n",
       "      <td>independent</td>\n",
       "      <td>59.0</td>\n",
       "    </tr>\n",
       "    <tr>\n",
       "      <th>1</th>\n",
       "      <td>chain</td>\n",
       "      <td>41.0</td>\n",
       "    </tr>\n",
       "  </tbody>\n",
       "</table>\n",
       "</div>"
      ],
      "text/plain": [
       "  chain_category  share\n",
       "0    independent   59.0\n",
       "1          chain   41.0"
      ]
     },
     "execution_count": 76,
     "metadata": {},
     "output_type": "execute_result"
    }
   ],
   "source": [
    "popular_chain_prop = popular_street_details['chain_category'].value_counts(normalize=True).reset_index()\n",
    "popular_chain_prop.columns = ['chain_category','share']\n",
    "popular_chain_prop['share'] = (popular_chain_prop['share']*100).round(1)\n",
    "popular_chain_prop"
   ]
  },
  {
   "cell_type": "markdown",
   "id": "8317ee4e-5559-4e14-8a09-4d8c1e2f8c38",
   "metadata": {},
   "source": [
    "The proportion of chain/independent venues is the same as in the overall street data"
   ]
  },
  {
   "cell_type": "code",
   "execution_count": 77,
   "id": "521172c8-b455-4a4d-930b-cb43349611cd",
   "metadata": {},
   "outputs": [
    {
     "data": {
      "image/png": "[encoded data removed]",
      "text/plain": [
       "<Figure size 720x504 with 1 Axes>"
      ]
     },
     "metadata": {},
     "output_type": "display_data"
    }
   ],
   "source": [
    "plt.figure(figsize=(10, 7))\n",
    "sns.histplot(data=popular_street_details, x=\"seats\", kde=True, bins = 50, hue ='chain_category', palette = 'muted')\n",
    "plt.title('Seats distribution across different establishments categories on popular streets', fontsize=16, fontweight='bold')\n",
    "plt.xlabel('Seats')\n",
    "plt.ylabel('Density')\n",
    "plt.show()"
   ]
  },
  {
   "cell_type": "code",
   "execution_count": 78,
   "id": "780c653a-230a-4296-b64f-0fd19474e44d",
   "metadata": {},
   "outputs": [
    {
     "data": {
      "image/png": "[encoded data removed]",
      "text/plain": [
       "<Figure size 504x504 with 1 Axes>"
      ]
     },
     "metadata": {},
     "output_type": "display_data"
    }
   ],
   "source": [
    "plt.figure(figsize=(7, 7))\n",
    "sns.violinplot(y=\"seats\", x = \"chain_category\", data=popular_street_details, palette='muted')\n",
    "plt.title('Seats distribution by categories (violinplot)', fontsize=16, fontweight='bold')\n",
    "plt.xlabel('Establishment categories')\n",
    "plt.ylabel('Seats')\n",
    "plt.yticks(range(0, 250, 20))\n",
    "plt.show()"
   ]
  },
  {
   "cell_type": "code",
   "execution_count": 79,
   "id": "fcfb2903-a7c3-469d-a2f5-db2ace039dfc",
   "metadata": {},
   "outputs": [
    {
     "name": "stdout",
     "output_type": "stream",
     "text": [
      "Total number of seats in establishments with a capacity of more than 50: 87743, share: 59.2\n"
     ]
    }
   ],
   "source": [
    "many_seats_pop = popular_street_details.query('seats>50')['seats'].sum()\n",
    "many_seats_pop_share = ((many_seats_pop/popular_street_details['seats'].sum())*100).round(1)\n",
    "\n",
    "print(f'Total number of seats in establishments with a capacity of more than 50: {many_seats_pop}, share: {many_seats_pop_share}')\n"
   ]
  },
  {
   "cell_type": "code",
   "execution_count": 80,
   "id": "885b7201-3b0a-4842-aace-90d419784962",
   "metadata": {},
   "outputs": [
    {
     "data": {
      "text/html": [
       "<div>\n",
       "<style scoped>\n",
       "    .dataframe tbody tr th:only-of-type {\n",
       "        vertical-align: middle;\n",
       "    }\n",
       "\n",
       "    .dataframe tbody tr th {\n",
       "        vertical-align: top;\n",
       "    }\n",
       "\n",
       "    .dataframe thead th {\n",
       "        text-align: right;\n",
       "    }\n",
       "</style>\n",
       "<table border=\"1\" class=\"dataframe\">\n",
       "  <thead>\n",
       "    <tr style=\"text-align: right;\">\n",
       "      <th></th>\n",
       "      <th>id</th>\n",
       "      <th>object_name</th>\n",
       "      <th>address</th>\n",
       "      <th>chain</th>\n",
       "      <th>object_type</th>\n",
       "      <th>seats</th>\n",
       "      <th>chain_category</th>\n",
       "      <th>street</th>\n",
       "    </tr>\n",
       "  </thead>\n",
       "  <tbody>\n",
       "    <tr>\n",
       "      <th>2</th>\n",
       "      <td>11788</td>\n",
       "      <td>street churros</td>\n",
       "      <td>6801 hollywood blvd # 253</td>\n",
       "      <td>False</td>\n",
       "      <td>fast food</td>\n",
       "      <td>20</td>\n",
       "      <td>independent</td>\n",
       "      <td>hollywood blvd</td>\n",
       "    </tr>\n",
       "    <tr>\n",
       "      <th>3</th>\n",
       "      <td>11789</td>\n",
       "      <td>triniti echo park</td>\n",
       "      <td>1814 w sunset blvd</td>\n",
       "      <td>False</td>\n",
       "      <td>restaurant</td>\n",
       "      <td>22</td>\n",
       "      <td>independent</td>\n",
       "      <td>sunset blvd</td>\n",
       "    </tr>\n",
       "    <tr>\n",
       "      <th>10</th>\n",
       "      <td>11796</td>\n",
       "      <td>el pollo loco</td>\n",
       "      <td>5319 w sunset blvd</td>\n",
       "      <td>True</td>\n",
       "      <td>restaurant</td>\n",
       "      <td>38</td>\n",
       "      <td>chain</td>\n",
       "      <td>sunset blvd</td>\n",
       "    </tr>\n",
       "    <tr>\n",
       "      <th>11</th>\n",
       "      <td>11797</td>\n",
       "      <td>poong nyun bakery</td>\n",
       "      <td>928 s western ave ste 109</td>\n",
       "      <td>True</td>\n",
       "      <td>bakery</td>\n",
       "      <td>17</td>\n",
       "      <td>chain</td>\n",
       "      <td>western ave</td>\n",
       "    </tr>\n",
       "    <tr>\n",
       "      <th>14</th>\n",
       "      <td>11800</td>\n",
       "      <td>cuscatleca bakery</td>\n",
       "      <td>2501 w sunset blvd #a</td>\n",
       "      <td>True</td>\n",
       "      <td>bakery</td>\n",
       "      <td>26</td>\n",
       "      <td>chain</td>\n",
       "      <td>sunset blvd</td>\n",
       "    </tr>\n",
       "  </tbody>\n",
       "</table>\n",
       "</div>"
      ],
      "text/plain": [
       "       id        object_name                    address  chain object_type  \\\n",
       "2   11788     street churros  6801 hollywood blvd # 253  False   fast food   \n",
       "3   11789  triniti echo park         1814 w sunset blvd  False  restaurant   \n",
       "10  11796      el pollo loco         5319 w sunset blvd   True  restaurant   \n",
       "11  11797  poong nyun bakery  928 s western ave ste 109   True      bakery   \n",
       "14  11800  cuscatleca bakery      2501 w sunset blvd #a   True      bakery   \n",
       "\n",
       "    seats chain_category          street  \n",
       "2      20    independent  hollywood blvd  \n",
       "3      22    independent     sunset blvd  \n",
       "10     38          chain     sunset blvd  \n",
       "11     17          chain     western ave  \n",
       "14     26          chain     sunset blvd  "
      ]
     },
     "execution_count": 80,
     "metadata": {},
     "output_type": "execute_result"
    }
   ],
   "source": [
    "popular_street_details.head()"
   ]
  },
  {
   "cell_type": "code",
   "execution_count": 81,
   "id": "36d9ef25-d193-459e-bf81-421c37676a77",
   "metadata": {},
   "outputs": [
    {
     "data": {
      "image/png": "[encoded data removed]",
      "text/plain": [
       "<Figure size 720x504 with 1 Axes>"
      ]
     },
     "metadata": {},
     "output_type": "display_data"
    }
   ],
   "source": [
    "plt.figure(figsize=(10, 7))\n",
    "ax = sns.boxplot(data=popular_street_details, x=\"street\", y=\"seats\", palette = 'muted')\n",
    "plt.xticks(rotation = 45)\n",
    "plt.title('The distribution of seats in establishments on top10 streets', fontsize=16, fontweight='bold')\n",
    "plt.xlabel('Streets')\n",
    "plt.ylabel('Seats')\n",
    "plt.yticks(range(0, 250, 20))\n",
    "plt.show()"
   ]
  },
  {
   "cell_type": "markdown",
   "id": "8b16b960-f48f-4117-901e-b3c82244abbd",
   "metadata": {},
   "source": [
    "Distribution of seats across the venues on the most popular streets is very similar as for overall street data: the same 60% share of venues with seats >50, the most frequent number of seats is around 20, venues with more than 90-100 seats could be considered as huge, the same difference between independent and chain violinplot - within independent venues the are slightly more high-capacity establishments.\n"
   ]
  },
  {
   "cell_type": "markdown",
   "id": "a822cfea-0d25-4cca-8530-bfb093238ab0",
   "metadata": {},
   "source": [
    "In terms of street-by-street analysis, we found that only Hollywood Boulevard and Wilshire Boulevard significantly differ from the others. On average, they have more high-capacity venues than the rest of the streets. For the remaining streets, the distribution is generally the same as for the total data across all 10 popular streets"
   ]
  },
  {
   "cell_type": "markdown",
   "id": "13b6e86e-7779-485f-9ee8-7160242ffa02",
   "metadata": {},
   "source": [
    "# Conclusion  <a id=\"Conclusion\"></a>"
   ]
  },
  {
   "cell_type": "markdown",
   "id": "58bd428c-bd7b-48af-acab-a8c447b5e2cd",
   "metadata": {},
   "source": [
    "Market research has started with revealing some data issues and further preproccessing. The following changes were made:\n",
    "- The column name 'number' was renamed to 'seats; to better reflect its content.\n",
    "- The object_name', 'address, and 'object_type' columns were converted to lowercase.\n",
    "- There were 3 missing values in the 'chain' column.  Since they were just ones under its names we have assigned them to 'chain' category.\n",
    "- The 'object_type' column was changed to a categorical data type to save memory.\n",
    "- The 'chain' column's data type was changed from 'object' to 'boolean'. A new column called 'chain_category' was created to differentiate between chain (true) and independent(false) establishments.\n",
    "- After counting the number of unique 'chain_category 'values for each venue's name it turned out that there were few venues assigned both to chain and independent categories. Venues that were mistakenly categorized as 'independent' were reassigned to the 'chain' category, based on their ownership status.\n",
    "- We identified implicit duplicates in the 'object_name' column, which were resolved using regular expressions and manual corrections. As a result, the number of unique venue names decreased from 8,672 to 7,802. Additionally, we changed the 'chain_category' for 'independent' venues that had more than one establishment to 'chain' status.\n",
    "- With help of 'usaddress' library we parsed street names from addresses, assigned streets value to a new column 'street'"
   ]
  },
  {
   "cell_type": "markdown",
   "id": "9efa0267-0579-46c0-a306-7a38fb9f0a1f",
   "metadata": {},
   "source": [
    "The conclusion from the analysis is as follows:\n",
    "1. Restaurants are the most popular establishment type in LA, with 7255 establishments compared to  second  most popular type - 1066 for fast food outlets. Pizza, bars, and bakeries have the smallest shares. Restaurants account for 75% of all establishment types in LA.\n",
    "2. 59% of all establishments in LA are independent.\n",
    "3. Although independent establishments are the most common overall, the situation varies within each establishment type. Four of the six types (pizza, fast food, cafe, and bakery) have more chain venues, while the other two (restaurant and bakery) have more independent entities. Restaurants, which have the biggest share of total outlets, skewed the overall proportion to independent (inside this type, there are almost twice more independent establishments).\n",
    "4. The majority of venues for both chain (80%) and independent (70%) establishments have seats below 50. On the other hand, establishments with seats over 50 hold more than 50% of the overall market capacity, 54% among chains and 62% among independents. We don't have any financial data on existing establishments, so we can't assume which approach is better; we're simply recording the fact.\n",
    "5. The vast majority of establishments have seats no more than 50, with the most frequent number of seats in both groups around 20. High-capacity establishments are rare. Venues with more than 90-100 seats could be considered huge. Despite similarities, the independent establishments have a more even distribution of seats compared to chains. The independent establishments have a larger proportion of high-capacity venues compared to chains, as evidenced by the thicker top part, smaller lower part, and more round shape of the violin plot.\n",
    "6. The restaurant category has the highest average number of seats among all establishment types, with an average of 48 seats per venue. Bars come in second with an average of 45 seats per venue. These two categories also have the highest median values for the number of seats (29 and 28.5).\n",
    "7. Sunset Boulevard and Wilshire Boulevard are almost equally popular among establishments in LA, with a small difference between them: 405 and 397, making Sunset Boulevard the most popular. The situation is the same for third and fourth place, with 372 establishments located on Pico Boulevard and 367 on Western Boulevard. Then the number of establishments gradually decreases from the 5th (332) to the 7th place (286) to around 260 for the 8th to 10th places. For independent establishments, the top street distribution is almost the same as for the overall data, except that Pico Boulevard is now ranked second and Wilshire Boulevard is ranked third. However, the situation is slightly changed for chains, with Wilshire Boulevard being the most popular, followed by Sunset Boulevard in second place, and Figueroa Street in third. Since we don't have financial data, we cannot conclude anything from this information.\n",
    "8. There are 229 streets with only one establishment, and the share of restaurants is higher than in the overall data (86% vs. 75%). The share of independent venues is also higher (64% vs. 58%). Like the overall data, restaurants on unpopular streets tend to have around 20 seats, but the share of huge restaurants (more than 90 seats) is significantly higher. It is likely that these establishments, which are located on unpopular streets far from the city center, may serve as venues for special events such as weddings, parties, and ceremonies.\n",
    "9. On the top 10 most popular streets, the number of restaurants is so high that each falls within the 99th percentile level. The proportion of establishment types and chain/independent venues is the same as in the overall"
   ]
  },
  {
   "cell_type": "markdown",
   "id": "e8e7be3d-e1a4-43d5-8c4e-73ed22b495af",
   "metadata": {},
   "source": [
    "Recomendations\n",
    "\n",
    "One of the biggest advantages of our robot venue is the ability to handle large groups of customers efficiently. Thus, I suggest opening a 40-50 seat venue, which is higher than the typical seats distribution. Going beyond this range is not recommended because the appearance and work of our robots won't be as visible. As for the establishment type, a restaurant + bar format would be suitable. This will provide customers with a more complete experience and increase the appeal of our establishment. Additionally, a restaurant + bar format allows us to offer a variety of food and drinks, which will attract a wider range of customers.\n",
    "\n",
    "The location of the establishment should be on one of the most popular streets in LA, such as Sunset Boulevard, Wilshire Boulevard, or Pico Boulevard. Being located on a popular street with high traffic will help increase the visibility of our unusual restaurant and attract more customers.\n",
    "\n",
    "In terms of developing a chain, it is recommended that we keep the venue as a boutique. This is because our robot cafe is a unique place, and it would be hard and costly to copy it excessively. However, we should not exclude the possibility of scaling the business in the future.\n",
    "\n",
    "In terms of marketing, we need to focus on the novelty and unique aspect of the robot restaurant and bar, highlighting the fast service and reduced wait times for customers. We should also make the decor and atmosphere reflect the futuristic and innovative theme of the restaurant, with a mix of sleek and fun elements.\n",
    "\n",
    "However, it is important to note that this suggestion is based solely on open information and does not take into account financial data. Currently, we do not have information on our competitors' revenue, cost, margin, number of visitors, and other financial metrics. Additionally, we have not developed a financial model for our own establishment, which is crucial for making informed business decisions. Therefore, this analysis is only a preliminary suggestion, and we will need to conduct further research and analysis to refine our plans and ensure the viability and profitability of our robot restaurant and bar."
   ]
  }
 ],
 "metadata": {
  "kernelspec": {
   "display_name": "Python 3 (ipykernel)",
   "language": "python",
   "name": "python3"
  },
  "language_info": {
   "codemirror_mode": {
    "name": "ipython",
    "version": 3
   },
   "file_extension": ".py",
   "mimetype": "text/x-python",
   "name": "python",
   "nbconvert_exporter": "python",
   "pygments_lexer": "ipython3",
   "version": "3.9.12"
  },
  "toc": {
   "base_numbering": 1,
   "nav_menu": {},
   "number_sections": true,
   "sideBar": true,
   "skip_h1_title": true,
   "title_cell": "Table of Contents",
   "title_sidebar": "Contents",
   "toc_cell": false,
   "toc_position": {},
   "toc_section_display": true,
   "toc_window_display": false
  },
  "toc-autonumbering": true,
  "toc-showcode": false,
  "toc-showmarkdowntxt": false
 },
 "nbformat": 4,
 "nbformat_minor": 5
}
